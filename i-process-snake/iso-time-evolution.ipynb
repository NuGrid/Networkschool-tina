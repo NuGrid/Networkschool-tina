{
 "cells": [
  {
   "cell_type": "markdown",
   "metadata": {},
   "source": [
    "# Time evolution of isotopes"
   ]
  },
  {
   "cell_type": "code",
   "execution_count": null,
   "metadata": {},
   "outputs": [],
   "source": [
    "%pylab ipympl\n",
    "from nugridpy import utils\n",
    "from nugridpy import ppn\n",
    "import pickle\n",
    "import sys, operator, glob, os"
   ]
  },
  {
   "cell_type": "code",
   "execution_count": null,
   "metadata": {},
   "outputs": [],
   "source": [
    "# use this for precompued runs\n",
    "data_dir = '/data/nugrid_data/projects/tina/iprocess-impact-MC/one-zone-run_default/'\n",
    "case = 'run_default_denn3.2e+13'"
   ]
  },
  {
   "cell_type": "code",
   "execution_count": null,
   "metadata": {},
   "outputs": [],
   "source": [
    "# use this for your own computed run\n",
    "# replace \"abc\" with your username\n",
    "data_dir = '/home/user/Network-school/abc/i-process-Nnconst/'\n",
    "case = 'run_default_denn3.2e+13'\n",
    "case = '.'"
   ]
  },
  {
   "cell_type": "code",
   "execution_count": null,
   "metadata": {},
   "outputs": [],
   "source": [
    "# Test: create x-time instance\n",
    "px=ppn.xtime(data_dir+case)"
   ]
  },
  {
   "cell_type": "code",
   "execution_count": null,
   "metadata": {},
   "outputs": [],
   "source": [
    "# Test: time evolution plot to check if equilibrium has been reached\n",
    "# doplot = False\n",
    "doplot = True\n",
    "if doplot:\n",
    "    close(114);figure(114)\n",
    "    logx=True\n",
    "    xthing = 'time'\n",
    "    xthing = 'cycle'\n",
    "    if xthing == 'cycle': logx=False\n",
    "    things = ['FE 56','FE 57','NI 66','Y  91','Y  92','Y  93','Y  94','Y  95','Y  96',\\\n",
    "              'BA138','BA140','BA142','BA144','BA146','PB208']\n",
    "    for i,thing in enumerate(things):\n",
    "        px.plot(xthing,thing,shape=utils.linestylecb(i)[1]+utils.linestylecb(i)[0],logy=True,logx=logx,\\\n",
    "                markevery=utils.linestyle(i,55,5)[1],legend=thing,show=False)\n",
    "    ylabel('mass fraction');xlabel(\"log t/[yr]\")\n",
    "    ylim(-13,-1.7)\n",
    "    # xlim(-6,-0.5); title(\"\")\n",
    "    #ylim(-13,-1.7); xlim(0,4.5); title(\"\")\n",
    "    legend(loc=3,fontsize=8)"
   ]
  },
  {
   "cell_type": "code",
   "execution_count": null,
   "metadata": {},
   "outputs": [],
   "source": []
  }
 ],
 "metadata": {
  "kernelspec": {
   "display_name": "Python 3",
   "language": "python",
   "name": "python3"
  },
  "language_info": {
   "codemirror_mode": {
    "name": "ipython",
    "version": 3
   },
   "file_extension": ".py",
   "mimetype": "text/x-python",
   "name": "python",
   "nbconvert_exporter": "python",
   "pygments_lexer": "ipython3",
   "version": "3.6.8"
  }
 },
 "nbformat": 4,
 "nbformat_minor": 4
}
