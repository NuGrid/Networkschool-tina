{
 "cells": [
  {
   "cell_type": "markdown",
   "metadata": {},
   "source": [
    "# Result Explorer Notebook for i-process Project\n",
    "\n",
    "## Overview\n",
    "\n",
    "This notebook allows you to explore the results of i-process model calculations performed by the Model-runner. Results are organized in different directories (folders) managed by the Model-Runner. There is also a provided directory (folder) `Standard` containing results from a standard i-process model calculation without any reaction rate changes.\n",
    "\n",
    "The results are lists of how much of each isotope was produced in the i-process model calculation. \n",
    "\n",
    "If things don't work make sure `Python 3` is displayed in the upper right corner of this Tab. If not go there and select it, and then try again. \n",
    "\n",
    "## Instructions Step 1: Load Modules\n",
    "Execute the following cell. This will load the modules for graphing and analysing (we are using the [NuGridPy](https://nugrid.github.io/NuGridPy/) Python package)."
   ]
  },
  {
   "cell_type": "code",
   "execution_count": 2,
   "metadata": {},
   "outputs": [
    {
     "name": "stdout",
     "output_type": "stream",
     "text": [
      "Populating the interactive namespace from numpy and matplotlib\n"
     ]
    }
   ],
   "source": [
    "%pylab ipympl \n",
    "from nugridpy import ppn\n",
    "from nugridpy import utils\n",
    "from nugridpy import utils as ut"
   ]
  },
  {
   "cell_type": "markdown",
   "metadata": {},
   "source": [
    "## Instructions Step 2: Load Data\n",
    "Edit the directory (folder) name (the text within `' '` in the first line) and then execute the following cell to load the data. \n",
    "\n",
    "You need to specify the directory (folder) that contains the results of the calculation you want to explore. Discuss with your group and the Model-runner what directory (folder) should be chosen (you can see the options on top of the list in the file browser on the left). The folder `master-result` contains a standard or benchmark calculation that has been provided. \n",
    "\n",
    "You create two Python data instances per case directory. Each of them can make different plots. In the following cell you specify the case directory in the string variable `case_directory` once, and then both instances are created using the same directory name."
   ]
  },
  {
   "cell_type": "code",
   "execution_count": 3,
   "metadata": {
    "scrolled": true
   },
   "outputs": [
    {
     "name": "stdout",
     "output_type": "stream",
     "text": [
      "524 cycle numbers found in Run_iprocess_equil_1.00d+14\n",
      "Ranging from 00000 to 00523\n",
      "Range may not be continuous. To display all available cycles, print <abu_vector_instance>.files\n",
      "number of species:  5216\n",
      "number of cols:  5222\n",
      "There are 523 time steps found.\n"
     ]
    }
   ],
   "source": [
    "case_directory = 'Run_iprocess_equil_1.00d+14' \n",
    "pa1 = ppn.abu_vector(case_directory)\n",
    "px1 = ppn.xtime(case_directory)"
   ]
  },
  {
   "cell_type": "markdown",
   "metadata": {},
   "source": [
    "## Instructions Step 3: Visualize Results on the Chart of Nuclides\n",
    "Executing the following cell creates a chart of nuclides with a color coding that indicates the abundance of each isotope created. Stable isotopes are the thick lined squares. The number indicates the mass number of the isotope. Each row is an element indicated by the element number or proton number Z. This graph helps you identify the most abundant isotopes that have been produced. \n",
    "\n",
    "Before you execute the next cell make sure the first argument of `pa1.abu_chart()` is the number of the cycle or time step you want to visualize. For example, if you want to visualize the abundances produced at the end of the calculation - then the number should be the highest cycle number (the range of cycle numbers is displayed as output when you load the data in the cell above). Using an earlier cycle number shows the abundances at an earlier time in the network evolution."
   ]
  },
  {
   "cell_type": "code",
   "execution_count": 5,
   "metadata": {},
   "outputs": [
    {
     "data": {
      "application/vnd.jupyter.widget-view+json": {
       "model_id": "4e7c82ea91e1427f94b3827af37420fc",
       "version_major": 2,
       "version_minor": 0
      },
      "text/plain": [
       "Canvas(toolbar=Toolbar(toolitems=[('Home', 'Reset original view', 'home', 'home'), ('Back', 'Back to previous …"
      ]
     },
     "metadata": {},
     "output_type": "display_data"
    }
   ],
   "source": [
    "ifig=3;close(ifig);figure(ifig)\n",
    "pa1.abu_chart(523,ifig=ifig,ilabel=False,imlabel=True,imlabel_fontsize=5,boxstable=True,\\\n",
    "              plotaxis=[65,100,42,67], lbound=(-14, -4))"
   ]
  },
  {
   "cell_type": "markdown",
   "metadata": {},
   "source": [
    "## Instructions Step 3: Obtain the abundance number of a specific isotope of interest\n",
    "\n",
    "As part of your project you will have to write down the exact produced abundance of a specific isotope your group is interested in, for example to determine the factor by which the abundance changed compared to a previous calculation. These are the steps that allow you to do that. \n",
    "\n",
    "1. Go to the file explorer on the left and double click on the directory (folder) that contains the results of the calculation you want to analyze (the same directory (folder)) you used for the chart of nuclides plot. \n",
    "\n",
    "2. You should see a long list of output files whose names start with `iso_massf...`. The file name also contains a number. Find the file with the highest number - this will contain the abundances at the end of the calculation (a file is created for each step of the calculation). You can make the file browser window wider by sliding the boundary to the right so you can see the full filenames. \n",
    "\n",
    "3. Double click on the file with the largest number in the name to open it in a new Tab. \n",
    "\n",
    "4. You see a long list of isotopes and their abundances. The last two columns contain element name and mass number to identify the isotope. The number in the column before is the abundance in scientific notation. Scroll down or use the Find feature (`Command - F` on Mac, `CTRL - F` on windows) to find the isotope you are interested in. \n",
    "\n",
    "5. Once you are done, click on your group folder in the folder name on top of the file browser (example Group1 or Group2 or Group3) - this should be the name just before the results folder, separated by `/`. This will get you back to the folder (directory) you came from so you can select a different result folder. \n",
    "\n",
    "Note the notation of the isotopes is always 5 characters with the first two characters denoting the element symbol in all upper case, and the last three characters the mass number. Element symbol is left justified and mass number is right justified with unused characters being blanks. You need to use that format when searching (type exactly 5 characters). "
   ]
  },
  {
   "cell_type": "code",
   "execution_count": null,
   "metadata": {},
   "outputs": [],
   "source": []
  }
 ],
 "metadata": {
  "kernelspec": {
   "display_name": "Python 3",
   "language": "python",
   "name": "python3"
  },
  "language_info": {
   "codemirror_mode": {
    "name": "ipython",
    "version": 3
   },
   "file_extension": ".py",
   "mimetype": "text/x-python",
   "name": "python",
   "nbconvert_exporter": "python",
   "pygments_lexer": "ipython3",
   "version": "3.6.8"
  }
 },
 "nbformat": 4,
 "nbformat_minor": 4
}
