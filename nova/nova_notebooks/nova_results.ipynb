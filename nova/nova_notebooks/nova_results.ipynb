{
 "cells": [
  {
   "cell_type": "markdown",
   "metadata": {},
   "source": [
    "### Analysis of the ONE-ZONE computations of a nova model"
   ]
  },
  {
   "cell_type": "code",
   "execution_count": 1,
   "metadata": {
    "collapsed": false,
    "jupyter": {
     "outputs_hidden": false
    }
   },
   "outputs": [
    {
     "name": "stdout",
     "output_type": "stream",
     "text": [
      "Populating the interactive namespace from numpy and matplotlib\n"
     ]
    }
   ],
   "source": [
    "# on an astrohub server use ipympl that enables the interactive features of \n",
    "# matplotlib in the Jupyter notebook and in JupyterLab\n",
    "%pylab ipympl  \n",
    "\n",
    "# for jupyter classic notebook use\n",
    "#%pylab nbagg\n",
    "\n",
    "from nugridpy import ppn\n",
    "from nugridpy import utils\n",
    "from matplotlib.pylab import *\n",
    "\n",
    "# begin counting figures\n",
    "ifig=0\n",
    "for i in range(0,10000):\n",
    "    close(i)"
   ]
  },
  {
   "cell_type": "code",
   "execution_count": 2,
   "metadata": {
    "collapsed": false,
    "jupyter": {
     "outputs_hidden": false
    }
   },
   "outputs": [
    {
     "name": "stdout",
     "output_type": "stream",
     "text": [
      "1953 cycle numbers found in ../\n",
      "Ranging from 00000 to 01952\n",
      "Range may not be continuous. To display all available cycles, print <abu_vector_instance>.files\n"
     ]
    }
   ],
   "source": [
    "p=ppn.abu_vector('../')"
   ]
  },
  {
   "cell_type": "code",
   "execution_count": 7,
   "metadata": {
    "collapsed": false,
    "jupyter": {
     "outputs_hidden": false
    }
   },
   "outputs": [
    {
     "data": {
      "application/vnd.jupyter.widget-view+json": {
       "model_id": "c1d24482590a4545bce40d3ef29027ea",
       "version_major": 2,
       "version_minor": 0
      },
      "text/plain": [
       "Canvas(toolbar=Toolbar(toolitems=[('Home', 'Reset original view', 'home', 'home'), ('Back', 'Back to previous …"
      ]
     },
     "metadata": {},
     "output_type": "display_data"
    },
    {
     "name": "stdout",
     "output_type": "stream",
     "text": [
      "This method adds the following variables to the instance:\n",
      "a_iso_to_plot      mass number of plotted range of species\n",
      "isotope_to_plot    corresponding list of isotopes\n",
      "z_iso_to_plot      corresponding charge numbers\n",
      "el_iso_to_plot     corresponding element names\n",
      "abunds             corresponding abundances\n",
      "isom               isomers and their abundance\n",
      "Calling get method in cycle mode, adding a_iso_to_plot, z.. el.. isotope.. isotope... to instance\n",
      "Using the following conditions:\n",
      "\tAtomic mass_range: 1 276\n",
      "\tcycle:            800\n",
      "\tplot only stable: False\n",
      "\tplot decayed:     False\n",
      "['-', '--', '-.', ':', '-']\n"
     ]
    }
   ],
   "source": [
    "ifig=ifig+1; close(ifig); fig=figure(ifig)\n",
    "size=6\n",
    "fig.canvas.layout.height = str(0.8*size)+'in'   # This is a hack to prevent ipympl\n",
    "fig.canvas.layout.width  = str(1.6*size)+'in'   # to adjust horizontal figure size\n",
    "\n",
    "cycle=800 # cycle to plot\n",
    "p.iso_abund(cycle)"
   ]
  },
  {
   "cell_type": "code",
   "execution_count": 4,
   "metadata": {
    "collapsed": false,
    "jupyter": {
     "outputs_hidden": false
    }
   },
   "outputs": [
    {
     "data": {
      "application/vnd.jupyter.widget-view+json": {
       "model_id": "4a027a9885104fa8817572bfc425f01f",
       "version_major": 2,
       "version_minor": 0
      },
      "text/plain": [
       "Canvas(toolbar=Toolbar(toolitems=[('Home', 'Reset original view', 'home', 'home'), ('Back', 'Back to previous …"
      ]
     },
     "metadata": {},
     "output_type": "display_data"
    }
   ],
   "source": [
    "p.abu_chart(cycle,plotaxis=[-1.5,29.5,0.5,20.5])"
   ]
  },
  {
   "cell_type": "markdown",
   "metadata": {},
   "source": [
    "### Make a plot of abundances vs time"
   ]
  },
  {
   "cell_type": "code",
   "execution_count": 5,
   "metadata": {},
   "outputs": [],
   "source": [
    "# plot parameters:\n",
    "\n",
    "specs = ['PROT','HE  4','C  12','N  14','O  16','NE 20','MG 24','SI 28'] # isotopes to plot\n",
    "y_lim = (-5,0.2) \n",
    "legend_loc = 4 \n",
    "x_axis_rev = False \n",
    "log_time = False\n",
    "y_axis_offset = 0 \n",
    "time_in_min = True "
   ]
  },
  {
   "cell_type": "code",
   "execution_count": 6,
   "metadata": {
    "collapsed": false,
    "jupyter": {
     "outputs_hidden": false
    }
   },
   "outputs": [
    {
     "data": {
      "application/vnd.jupyter.widget-view+json": {
       "model_id": "439bc5f22654403492377218dc461a76",
       "version_major": 2,
       "version_minor": 0
      },
      "text/plain": [
       "Canvas(toolbar=Toolbar(toolitems=[('Home', 'Reset original view', 'home', 'home'), ('Back', 'Back to previous …"
      ]
     },
     "metadata": {},
     "output_type": "display_data"
    },
    {
     "name": "stdout",
     "output_type": "stream",
     "text": [
      "number of species:  5210\n",
      "number of cols:  5216\n",
      "There are 1952 time steps found.\n"
     ]
    }
   ],
   "source": [
    "# make the plot\n",
    "\n",
    "ifig=ifig+1; close(ifig); fig=figure(ifig)\n",
    "size=6\n",
    "fig.canvas.layout.height = str(0.8*size)+'in'   # This is a hack to prevent ipympl\n",
    "fig.canvas.layout.width  = str(1.6*size)+'in'   # to adjust horizontal figure size\n",
    "\n",
    "symbs=utils.symbol_list('lines2')\n",
    "x=ppn.xtime('../')\n",
    "abus=[]\n",
    "for spec in specs:\n",
    "    abu=x.get(spec)\n",
    "    abus.append(abu)\n",
    "\n",
    "if time_in_min:\n",
    "    time=x.get('time')*(3.1558149984e7/60e0)\n",
    "else:\n",
    "    time=x.get('time')\n",
    "\n",
    "for i in range(len(specs)):\n",
    "    if log_time:\n",
    "        plot(log10(time),log10(abus[i] + y_axis_offset),symbs[i],label=specs[i])\n",
    "    else:\n",
    "        plot(time,log10(abus[i] + y_axis_offset),symbs[i],label=specs[i])\n",
    "\n",
    "if x_axis_rev:\n",
    "    utils.xlimrev()\n",
    "ylim(*y_lim)\n",
    "legend(loc=legend_loc)\n",
    "\n",
    "xlabel('$\\mathrm{time\\ (min)}$',fontsize=16)\n",
    "ylabel('$\\log_{10}X_i$',fontsize=16)\n",
    "\n",
    "tight_layout()\n",
    "show()"
   ]
  },
  {
   "cell_type": "code",
   "execution_count": null,
   "metadata": {},
   "outputs": [],
   "source": []
  }
 ],
 "metadata": {
  "anaconda-cloud": {},
  "kernelspec": {
   "display_name": "Python 2",
   "language": "python",
   "name": "python2"
  },
  "language_info": {
   "codemirror_mode": {
    "name": "ipython",
    "version": 3
   },
   "file_extension": ".py",
   "mimetype": "text/x-python",
   "name": "python",
   "nbconvert_exporter": "python",
   "pygments_lexer": "ipython3",
   "version": "3.6.8"
  }
 },
 "nbformat": 4,
 "nbformat_minor": 4
}
