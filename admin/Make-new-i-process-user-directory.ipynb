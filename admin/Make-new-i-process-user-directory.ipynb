{
 "cells": [
  {
   "cell_type": "markdown",
   "metadata": {},
   "source": [
    "# Make new user directory for i process calculation\n",
    "\n",
    "\n",
    "\n",
    "This short Bash notebook creates a fresh user directory and configures it. Specifically it clones the \n",
    "NuGrid/Networkschool-tina git repository\n",
    "https://github.com/NuGrid/Networkschool-tina from GitHub into a new directory folder with your selected name that you enter in the cell below. It will do one configuration step involving setting some links to some needed data so that the program can find it where it is expected. In the last step this notebook runs the `ppn.exe` program to check that everything works.\n",
    "\n",
    "* In the `i-process` directory you will find the `Model-runner.ipynb`,  `Result-Explorer.ipynb` and \n",
    "`Rate-Changer.ipynb` notebooks for your project. \n",
    "* In the `i-process/Notebooks` directory are three additional \n",
    "\n",
    "## Step 1\n",
    "Provide name of new i-process direcory, enter between the quotes replace the word after the `=` character. For example:\n",
    "```Python\n",
    "dir_name=\"jane-wallas\"\n",
    "```"
   ]
  },
  {
   "cell_type": "code",
   "execution_count": 9,
   "metadata": {},
   "outputs": [
    {
     "name": "stdout",
     "output_type": "stream",
     "text": [
      "hendrik2/i-process/Model-runner.ipynb  hendrik2/i-process/Result-Explorer.ipynb\n",
      "hendrik2/i-process/Rate-Changer.ipynb\n"
     ]
    }
   ],
   "source": [
    "ls hendrik2/i-process/*b"
   ]
  },
  {
   "cell_type": "code",
   "execution_count": 1,
   "metadata": {},
   "outputs": [],
   "source": [
    "dir_name=\"dummy-name\""
   ]
  },
  {
   "cell_type": "markdown",
   "metadata": {},
   "source": [
    "## Step 2\n",
    "The next cell checks if the directory name you picked already exists."
   ]
  },
  {
   "cell_type": "code",
   "execution_count": null,
   "metadata": {},
   "outputs": [],
   "source": [
    "if [ -d $dir_name ]\n",
    "then\n",
    "    echo \"********************************************\"\n",
    "    echo \"WARNING: This user directory already exists!\"\n",
    "    echo \"Use a different name for 'dir_name'!\"\n",
    "    echo \"********************************************\"\n",
    "fi"
   ]
  },
  {
   "cell_type": "markdown",
   "metadata": {},
   "source": [
    "## Step 3\n",
    "Clone the git repository with the configuration and exectuble files and the analysis notebooks:"
   ]
  },
  {
   "cell_type": "code",
   "execution_count": null,
   "metadata": {},
   "outputs": [],
   "source": [
    "git clone https://github.com/NuGrid/Networkschool-tina.git $dir_name"
   ]
  },
  {
   "cell_type": "markdown",
   "metadata": {},
   "source": [
    "## Step 4\n",
    "Create some symboli links so that the program and the analysis notebooks can find some additional data needed for the computation and result plotting:"
   ]
  },
  {
   "cell_type": "code",
   "execution_count": 2,
   "metadata": {},
   "outputs": [
    {
     "name": "stdout",
     "output_type": "stream",
     "text": [
      "ln: failed to create symbolic link 'dummy-name/NPDATA': No such file or directory\n",
      "ln: failed to create symbolic link 'dummy-name/i-process/master-result': No such file or directory\n"
     ]
    },
    {
     "ename": "",
     "evalue": "1",
     "output_type": "error",
     "traceback": []
    }
   ],
   "source": [
    "ln -s /data/NPDATA $dir_name/NPDATA\n",
    "ln -s /data/master-result $dir_name/i-process/master-result"
   ]
  },
  {
   "cell_type": "markdown",
   "metadata": {},
   "source": [
    "## Step 5\n",
    "All done ... now we check the installation by running the program. This will take a few minutes. Once it starts you will see this output:\n",
    "```\n",
    " ppn setting up network\n",
    " rnetw2008: false species=L   1\n",
    " rnetw2008: false species=G   1\n",
    " rnetw2008: false species=G  63\n",
    " rnetw2008: false species=LI  6\n",
    " rnetw2008: false species=BE  9\n",
    " rnetw2008: false species=B  10\n",
    " Reading initial abundance with the following header\n",
    " comment:\n",
    "  initial abundance iniab1.6E-04As09_fehm2.6.ppn                                 \n",
    " cycle   age       N_n       T_9       rho       ye        <tNRNW>   tN_last   tminv_l Nspec   IT  TIT nsubt\n",
    "     1   2.0D-08   2.8D+06   2.0D-01   1.0D+04   6.0D-01   1.0D-02   9.2D-03   4.2D-03   581    5    5    0\n",
    "     2   3.0D-08   3.0D+06   2.0D-01   1.0D+04   6.0D-01   8.9D-03   8.9D-03   3.7D-03   583    4    4    0\n",
    "     3   4.1D-08   3.0D+06   2.0D-01   1.0D+04   6.0D-01   8.8D-03   9.1D-03   3.7D-03   583    4    4    0\n",
    "     4   5.1D-08   3.0D+06   2.0D-01   1.0D+04   6.0D-01   8.5D-03   8.5D-03   3.4D-03   584    3    3    0\n",
    " ```\n",
    " At this point you can stop the program by stopping the Bash kernel by clicking the filled rectangle in the toprow of the notebook."
   ]
  },
  {
   "cell_type": "code",
   "execution_count": null,
   "metadata": {},
   "outputs": [],
   "source": [
    "cd $dir_name/i-process\n",
    "./ppn.exe"
   ]
  },
  {
   "cell_type": "code",
   "execution_count": null,
   "metadata": {},
   "outputs": [],
   "source": []
  },
  {
   "cell_type": "code",
   "execution_count": null,
   "metadata": {},
   "outputs": [],
   "source": []
  },
  {
   "cell_type": "code",
   "execution_count": null,
   "metadata": {},
   "outputs": [],
   "source": []
  },
  {
   "cell_type": "code",
   "execution_count": null,
   "metadata": {},
   "outputs": [],
   "source": []
  }
 ],
 "metadata": {
  "kernelspec": {
   "display_name": "Bash",
   "language": "bash",
   "name": "bash"
  },
  "language_info": {
   "codemirror_mode": "shell",
   "file_extension": ".sh",
   "mimetype": "text/x-sh",
   "name": "bash"
  }
 },
 "nbformat": 4,
 "nbformat_minor": 4
}
