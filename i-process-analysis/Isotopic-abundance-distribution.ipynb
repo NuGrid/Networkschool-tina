{
 "cells": [
  {
   "cell_type": "markdown",
   "metadata": {},
   "source": [
    "# Isoptic abundance distribution"
   ]
  },
  {
   "cell_type": "code",
   "execution_count": 12,
   "metadata": {},
   "outputs": [
    {
     "name": "stdout",
     "output_type": "stream",
     "text": [
      "Populating the interactive namespace from numpy and matplotlib\n"
     ]
    }
   ],
   "source": [
    "%pylab ipympl\n",
    "from nugridpy import utils\n",
    "from nugridpy import ppn\n",
    "import pickle\n",
    "import sys, operator, glob, os"
   ]
  },
  {
   "cell_type": "code",
   "execution_count": 3,
   "metadata": {},
   "outputs": [],
   "source": [
    "# precalculated\n",
    "data_dir = '/data/nugrid_data/projects/tina/iprocess-impact-MC/one-zone-run_default/'\n",
    "case = 'run_default_denn3.2e+13'"
   ]
  },
  {
   "cell_type": "code",
   "execution_count": 4,
   "metadata": {},
   "outputs": [],
   "source": [
    "# new calculations\n",
    "data_dir = '/home/user/Network-school/abc/i-process-Nnconst/'\n",
    "case = 'run_default_denn3.2e+13'\n",
    "cases = ['Ba139up50_1.00d+14','MyRun_iprocess_Nnconst_1.00d+14']"
   ]
  },
  {
   "cell_type": "code",
   "execution_count": 5,
   "metadata": {},
   "outputs": [
    {
     "name": "stdout",
     "output_type": "stream",
     "text": [
      "524 cycle numbers found in /home/user/Network-school/abc/i-process-Nnconst/Ba139up50_1.00d+14\n",
      "Ranging from 00000 to 00523\n",
      "Range may not be continuous. To display all available cycles, print <abu_vector_instance>.files\n",
      "524 cycle numbers found in /home/user/Network-school/abc/i-process-Nnconst/MyRun_iprocess_Nnconst_1.00d+14\n",
      "Ranging from 00000 to 00523\n",
      "Range may not be continuous. To display all available cycles, print <abu_vector_instance>.files\n"
     ]
    }
   ],
   "source": [
    "# Test: create x-time instance\n",
    "pa_cases = {}\n",
    "for case in cases:\n",
    "    pa_cases[case]=ppn.abu_vector(data_dir+case)"
   ]
  },
  {
   "cell_type": "code",
   "execution_count": 8,
   "metadata": {},
   "outputs": [],
   "source": [
    "pa=pa_cases[case]\n",
    "# pa.iso_abund?    # uncomment to see docstring"
   ]
  },
  {
   "cell_type": "code",
   "execution_count": 13,
   "metadata": {},
   "outputs": [
    {
     "data": {
      "application/vnd.jupyter.widget-view+json": {
       "model_id": "e6dcef0a695b47c0b9ae2a1973e6c2ce",
       "version_major": 2,
       "version_minor": 0
      },
      "text/plain": [
       "Canvas(toolbar=Toolbar(toolitems=[('Home', 'Reset original view', 'home', 'home'), ('Back', 'Back to previous …"
      ]
     },
     "metadata": {},
     "output_type": "display_data"
    }
   ],
   "source": [
    "%%capture --no-display\n",
    "\n",
    "# iso_abundance plot\n",
    "cycle = 300\n",
    "size=3;ifig=110\n",
    "m1,m2 = 132,150; y1,y2 = -7, -2.2\n",
    "cbol = [True,True]; mpoints=['o','s']\n",
    "ptypes=[[':',':',':', ':',':'],['--','--','--','--','--']]\n",
    "close(ifig);figure(ifig,figsize=(2*size,size))\n",
    "for i,case in enumerate(cases):\n",
    "    pa_cases[case].iso_abund(cycle, decayed=False,color_plot=cbol[i], \\\n",
    "        amass_range=(m1,m2),ylim=[y1,y2],point_set=i,\\\n",
    "        mypoint=mpoints[i], plot_type=ptypes[i])\n",
    "text(0.9*m2,y2-0.5,\"undecayed\")\n",
    "tight_layout()"
   ]
  },
  {
   "cell_type": "code",
   "execution_count": null,
   "metadata": {},
   "outputs": [],
   "source": []
  }
 ],
 "metadata": {
  "kernelspec": {
   "display_name": "Python 3",
   "language": "python",
   "name": "python3"
  },
  "language_info": {
   "codemirror_mode": {
    "name": "ipython",
    "version": 3
   },
   "file_extension": ".py",
   "mimetype": "text/x-python",
   "name": "python",
   "nbconvert_exporter": "python",
   "pygments_lexer": "ipython3",
   "version": "3.6.8"
  }
 },
 "nbformat": 4,
 "nbformat_minor": 5
}
