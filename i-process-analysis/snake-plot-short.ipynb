{
 "cells": [
  {
   "cell_type": "markdown",
   "metadata": {},
   "source": [
    "## Snake plot\n",
    "Three- or four-element plots (we call them _snake_ plots) are especially useful to compare the predictions of different neutron density solutions with elemental ratios.  This is a plot where we have for each neutron density one dot in a three- or four-element plot.\n",
    "\n",
    "This is the _short_ version of the notebook that just plots precomputed one-zone equilibrium solutions with pre-selected JINABase observations of CEMP stars. There is a _long_ version that allows you to add additional model files that you may have created."
   ]
  },
  {
   "cell_type": "code",
   "execution_count": 1,
   "metadata": {},
   "outputs": [
    {
     "name": "stdout",
     "output_type": "stream",
     "text": [
      "Populating the interactive namespace from numpy and matplotlib\n"
     ]
    }
   ],
   "source": [
    "%pylab ipympl\n",
    "from nugridpy import utils\n",
    "import pickle\n",
    "import sys, operator, glob, os"
   ]
  },
  {
   "cell_type": "code",
   "execution_count": 2,
   "metadata": {},
   "outputs": [],
   "source": [
    "data_dir = '/data/nugrid/data/iprocess-impact-MC/one-zone-run_default/'\n",
    "casename = 'default'"
   ]
  },
  {
   "cell_type": "code",
   "execution_count": 3,
   "metadata": {},
   "outputs": [],
   "source": [
    "import jbutils # this is a local module in this directyory\n",
    "\n",
    "# if NOT data_dir = '/data/nugrid/data/iprocess-impact-MC/one-zone-run_default/'\n",
    "# then you have to set data_dir in jbutils.py in this directory"
   ]
  },
  {
   "cell_type": "code",
   "execution_count": 4,
   "metadata": {},
   "outputs": [],
   "source": [
    "# read Nn_elem_dict.pkl for plotting\n",
    "# this file contains some precalculated constant density runs\n",
    "afile = open('Nn_elem_dict_'+casename+'.pkl','rb') \n",
    "Nn,elem_dict = pickle.load(afile)\n",
    "afile.close()\n",
    "\n",
    "# in the long version you can create these files for different assumptions\n",
    "# and add them to the snake plot"
   ]
  },
  {
   "cell_type": "code",
   "execution_count": 7,
   "metadata": {},
   "outputs": [
    {
     "data": {
      "application/vnd.jupyter.widget-view+json": {
       "model_id": "64f13a46dbf143a3b77cd1b65ccd1320",
       "version_major": 2,
       "version_minor": 0
      },
      "text/plain": [
       "Canvas(toolbar=Toolbar(toolitems=[('Home', 'Reset original view', 'home', 'home'), ('Back', 'Back to previous …"
      ]
     },
     "metadata": {},
     "output_type": "display_data"
    }
   ],
   "source": [
    "# set elements to plot: \n",
    "# [els[0], els[1], els[2], els[3]] \n",
    "# [els[0]/els[1]] on x axis [els[2]/els[3]] on y axis\n",
    "els = ['Ba', 'La', 'La','Eu']\n",
    "# els = ['Ce', 'Nd', 'Sm','Eu']\n",
    "\n",
    "# to set Nn colorbar range find \n",
    "logNn = log10(array(list(Nn.values())))\n",
    "min_,max_ = logNn.min(),logNn.max()\n",
    "\n",
    "size = 6\n",
    "close(74);figure(74,figsize=(1.6*size,size))\n",
    "scatter(elem_dict[els[0]]-elem_dict[els[1]],elem_dict[els[2]]-elem_dict[els[3]],\\\n",
    "        c=logNn,cmap='jet')\n",
    "plot(elem_dict[els[0]]-elem_dict[els[1]],elem_dict[els[2]]-elem_dict[els[3]],'--',\\\n",
    "     color='grey',label='default')\n",
    "\n",
    "\n",
    "jbutils.plot_elemratios(els=els,selections = ['S', 'I', 'R1', 'R2'], uls=False)        \n",
    "\n",
    "clim(min_, max_) # set the min/max of the colorbar \n",
    "cbar = colorbar()\n",
    "cbar.set_label('$\\mathsf{N_n}$', rotation=90)\n",
    "\n",
    "\n",
    "# legend()\n",
    "xlim(-0.8,1.),ylim(-.6,1.3)\n",
    "xlabel('['+els[0]+'/'+els[1]+']');ylabel('['+els[2]+'/'+els[3]+']')\n",
    "tight_layout()\n"
   ]
  },
  {
   "cell_type": "code",
   "execution_count": null,
   "metadata": {},
   "outputs": [],
   "source": []
  }
 ],
 "metadata": {
  "kernelspec": {
   "display_name": "Python 3",
   "language": "python",
   "name": "python3"
  },
  "language_info": {
   "codemirror_mode": {
    "name": "ipython",
    "version": 3
   },
   "file_extension": ".py",
   "mimetype": "text/x-python",
   "name": "python",
   "nbconvert_exporter": "python",
   "pygments_lexer": "ipython3",
   "version": "3.6.8"
  }
 },
 "nbformat": 4,
 "nbformat_minor": 4
}
