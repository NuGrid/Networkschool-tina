{
 "cells": [
  {
   "cell_type": "markdown",
   "metadata": {},
   "source": [
    "## Snake plot\n",
    "Three- or four-element plots (we call them _snake_ plots) are especially useful to compare the predictions of different neutron density solutions with elemental ratios.  This is a plot where we have for each neutron density one dot in a three- or four-element plot.\n",
    "\n",
    "This is the _short_ version of the notebook that just plots precomputed one-zone equilibrium solutions with pre-selected JINABase observations of CEMP stars. There is a _long_ version that allows you to add additional model files that you may have created."
   ]
  },
  {
   "cell_type": "code",
   "execution_count": 9,
   "metadata": {},
   "outputs": [
    {
     "name": "stdout",
     "output_type": "stream",
     "text": [
      "Populating the interactive namespace from numpy and matplotlib\n"
     ]
    }
   ],
   "source": [
    "%pylab ipympl\n",
    "from nugridpy import utils\n",
    "from nugridpy import ppn\n",
    "import pickle\n",
    "import sys, operator, glob, os"
   ]
  },
  {
   "cell_type": "code",
   "execution_count": 10,
   "metadata": {},
   "outputs": [],
   "source": [
    "data_dir = '/data/nugrid_data/projects/tina/iprocess-impact-MC/'\n",
    "casename = 'default'"
   ]
  },
  {
   "cell_type": "code",
   "execution_count": 11,
   "metadata": {},
   "outputs": [],
   "source": [
    "import jbutils # this is a local module in this directyory\n",
    "\n",
    "# data_dir needs to be the same in `jbutils.py` as above!"
   ]
  },
  {
   "cell_type": "code",
   "execution_count": 12,
   "metadata": {},
   "outputs": [
    {
     "data": {
      "text/plain": [
       "'/data/nugrid_data/projects/tina/iprocess-impact-MC/data_utils/Nn_elem_dict_default.pkl'"
      ]
     },
     "execution_count": 12,
     "metadata": {},
     "output_type": "execute_result"
    }
   ],
   "source": [
    "data_dir+'data_utils/Nn_elem_dict_'+casename+'.pkl'"
   ]
  },
  {
   "cell_type": "code",
   "execution_count": 13,
   "metadata": {},
   "outputs": [],
   "source": [
    "# read Nn_elem_dict.pkl for plotting\n",
    "# this file contains some precalculated constant density runs\n",
    "afile = open(data_dir+'data_utils/Nn_elem_dict_'+casename+'.pkl','rb') \n",
    "Nn,elem_dict = pickle.load(afile)\n",
    "afile.close()\n",
    "\n",
    "# in the long version you can create these files for different assumptions\n",
    "# and add them to the snake plot"
   ]
  },
  {
   "cell_type": "code",
   "execution_count": 14,
   "metadata": {},
   "outputs": [
    {
     "data": {
      "application/vnd.jupyter.widget-view+json": {
       "model_id": "23c3ec0ce67b40be8150f1d64417af10",
       "version_major": 2,
       "version_minor": 0
      },
      "text/plain": [
       "Canvas(toolbar=Toolbar(toolitems=[('Home', 'Reset original view', 'home', 'home'), ('Back', 'Back to previous …"
      ]
     },
     "metadata": {},
     "output_type": "display_data"
    }
   ],
   "source": [
    "# set elements to plot: \n",
    "# [els[0], els[1], els[2], els[3]] \n",
    "# [els[0]/els[1]] on x axis [els[2]/els[3]] on y axis\n",
    "els = ['Ba', 'La', 'La','Eu']\n",
    "# els = ['Ce', 'Nd', 'Sm','Eu']\n",
    "\n",
    "# to set Nn colorbar range find \n",
    "logNn = log10(array(list(Nn.values())))\n",
    "min_,max_ = logNn.min(),logNn.max()\n",
    "\n",
    "size = 6\n",
    "close(74);figure(74,figsize=(1.6*size,size))\n",
    "scatter(elem_dict[els[0]]-elem_dict[els[1]],elem_dict[els[2]]-elem_dict[els[3]],\\\n",
    "        c=logNn,cmap='jet')\n",
    "plot(elem_dict[els[0]]-elem_dict[els[1]],elem_dict[els[2]]-elem_dict[els[3]],'--',\\\n",
    "     color='grey',label='default')\n",
    "\n",
    "\n",
    "jbutils.plot_elemratios(els=els,selections = ['S', 'I', 'R1', 'R2'], uls=False)        \n",
    "\n",
    "clim(min_, max_) # set the min/max of the colorbar \n",
    "cbar = colorbar()\n",
    "cbar.set_label('$\\mathsf{N_n}$', rotation=90)\n",
    "\n",
    "\n",
    "# legend()\n",
    "xlim(-0.6,1.),ylim(-.6,1.3)\n",
    "xlabel('['+els[0]+'/'+els[1]+']');ylabel('['+els[2]+'/'+els[3]+']')\n",
    "tight_layout()\n"
   ]
  },
  {
   "cell_type": "markdown",
   "metadata": {},
   "source": [
    "## Add a point from a new run"
   ]
  },
  {
   "cell_type": "code",
   "execution_count": 16,
   "metadata": {},
   "outputs": [],
   "source": [
    "ncases = ['Ba139up50_1.00d+14'] # this is a list of your runs you made in ../i-process-Nnconst"
   ]
  },
  {
   "cell_type": "code",
   "execution_count": 17,
   "metadata": {},
   "outputs": [
    {
     "name": "stdout",
     "output_type": "stream",
     "text": [
      "524 cycle numbers found in /home/user/Network-school/abc/i-process-Nnconst/Ba139up50_1.00d+14\n",
      "Ranging from 00000 to 00523\n",
      "Range may not be continuous. To display all available cycles, print <abu_vector_instance>.files\n"
     ]
    }
   ],
   "source": [
    "# %%capture\n",
    "# create dictionary only first time\n",
    "# to add new cases comment\n",
    "pa_cases = {} \n",
    "\n",
    "# create a ppn.abu_vector instance for each case\n",
    "for case in ncases:\n",
    "    pa=ppn.abu_vector(os.path.join(\"/home/user/Network-school/abc/i-process-Nnconst\",case))\n",
    "    pa_cases[case] = pa"
   ]
  },
  {
   "cell_type": "markdown",
   "metadata": {},
   "source": [
    "Run the next cell to exstract the elemental abundance and Nn dictionaries you need to add to the snake plot."
   ]
  },
  {
   "cell_type": "code",
   "execution_count": 18,
   "metadata": {},
   "outputs": [],
   "source": [
    "%%capture\n",
    "el_abu_log_dict={}; Nn={} \n",
    "data_dir = '/data/nugrid_data/projects/tina/iprocess-impact-MC/'\n",
    "sol_ab = data_dir+'one-zone-run_default/'+'../data_utils/iniab1.4E-02As09.ppn'\n",
    "for i,case in enumerate(ncases):\n",
    "    close(100+i);figure(100+i)\n",
    "    print (i,case)\n",
    "    cycle = pa_cases[case].get('mod')[-1]                                                 # this is the last cycle\n",
    "    pa_cases[case].elemental_abund(cycle,zrange=[25,85],ref_filename=sol_ab,ylim=[-2,8])  # elements only returned that are in zrange\n",
    "    el_abu_log_dict[case] = pa_cases[case].el_abu_log\n",
    "    Nn[case]              = pa_cases[case].get('densn',cycle)\n",
    "    title(case)\n"
   ]
  },
  {
   "cell_type": "markdown",
   "metadata": {},
   "source": [
    "The following cell will make sure your results are sorted by Nn so that a connected additional snake line is plotted. Also you will save this snake in a `.pkl` file."
   ]
  },
  {
   "cell_type": "code",
   "execution_count": 19,
   "metadata": {},
   "outputs": [],
   "source": [
    "casename = 'Ba139up50'\n",
    "# sort, create elem_dict and write if sort_Nn = True\n",
    "sort_Nn = True \n",
    "if sort_Nn:\n",
    "    Nnsorted = sorted(Nn.items(), key=operator.itemgetter(1))\n",
    "    cases_sorted = [Nnsorted[i][0] for i in range(len(Nnsorted))]\n",
    "    Nnsorted = {}\n",
    "    for case in cases_sorted: Nnsorted[case] = Nn[case]\n",
    "    #print(cases_sorted)\n",
    "\n",
    "    # create a elemental abundance dictionary in which for each available element \n",
    "    # the log elem abundance as extracted during elemental_abund plotting are available\n",
    "\n",
    "    elem_dict_add = {} #always start with a new dictionary\n",
    "\n",
    "    for element in pa.el_name:\n",
    "        elem_dict_add[element] = array([el_abu_log_dict[case][pa.el_name.index(element)] for case in cases_sorted])\n",
    "\n",
    "    # write elem_dict dictionary into python pickle\n",
    "    afile = open('Nn_elem_dict_'+casename+'.pkl', 'wb')\n",
    "    pickle.dump([Nnsorted,elem_dict], afile)\n",
    "    afile.close()"
   ]
  },
  {
   "cell_type": "code",
   "execution_count": 20,
   "metadata": {},
   "outputs": [
    {
     "data": {
      "text/plain": [
       "[<matplotlib.lines.Line2D at 0x7f9d621cca58>]"
      ]
     },
     "execution_count": 20,
     "metadata": {},
     "output_type": "execute_result"
    }
   ],
   "source": [
    "figure(74)\n",
    "plot(elem_dict_add[els[0]]-elem_dict_add[els[1]],elem_dict_add[els[2]]-elem_dict_add[els[3]],'sb')\n"
   ]
  },
  {
   "cell_type": "code",
   "execution_count": null,
   "metadata": {},
   "outputs": [],
   "source": []
  }
 ],
 "metadata": {
  "kernelspec": {
   "display_name": "Python 3",
   "language": "python",
   "name": "python3"
  },
  "language_info": {
   "codemirror_mode": {
    "name": "ipython",
    "version": 3
   },
   "file_extension": ".py",
   "mimetype": "text/x-python",
   "name": "python",
   "nbconvert_exporter": "python",
   "pygments_lexer": "ipython3",
   "version": "3.6.8"
  }
 },
 "nbformat": 4,
 "nbformat_minor": 4
}
