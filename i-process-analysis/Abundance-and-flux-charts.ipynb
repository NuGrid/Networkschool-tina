{
 "cells": [
  {
   "cell_type": "markdown",
   "metadata": {},
   "source": [
    "# Plot charts of nuclides and reaction fluxes for one-zone i-process ppn run"
   ]
  },
  {
   "cell_type": "code",
   "execution_count": null,
   "metadata": {},
   "outputs": [],
   "source": [
    "data_dir = '/data/nugrid_data/projects/tina/iprocess-impact-MC/one-zone-run_default/'\n",
    "case = 'run_default_denn3.2e+13'"
   ]
  },
  {
   "cell_type": "markdown",
   "metadata": {},
   "source": [
    "### Initializing the notebook"
   ]
  },
  {
   "cell_type": "code",
   "execution_count": null,
   "metadata": {},
   "outputs": [],
   "source": [
    "%pylab ipympl\n",
    "from nugridpy import ppn"
   ]
  },
  {
   "cell_type": "markdown",
   "metadata": {},
   "source": [
    "## Abundance chart plot"
   ]
  },
  {
   "cell_type": "code",
   "execution_count": null,
   "metadata": {},
   "outputs": [],
   "source": [
    "# ppn run results are in this directory\n",
    "pa=ppn.abu_vector(data_dir+case)"
   ]
  },
  {
   "cell_type": "code",
   "execution_count": null,
   "metadata": {},
   "outputs": [],
   "source": [
    "cycle_to_plot = pa.get('mod')[-1]"
   ]
  },
  {
   "cell_type": "code",
   "execution_count": null,
   "metadata": {},
   "outputs": [],
   "source": [
    "# make a plot of a chart of isotopic abundances\n",
    "ifig=5;close(ifig);figure(ifig)\n",
    "pa.abu_chart(cycle_to_plot,plotaxis=[48.5,94.5,40.5,68.5],imlabel_fontsize=4,lbound=(-12,-4),ifig=ifig)\n",
    "ifig=6;close(ifig);figure(ifig)\n",
    "pa.abu_chart(cycle_to_plot,plotaxis=[94.5,140.5,68.5,83.5],imlabel_fontsize=4,lbound=(-12,-4),ifig=ifig)\n"
   ]
  },
  {
   "cell_type": "markdown",
   "metadata": {},
   "source": [
    "## Flux plots\n",
    "The default reference run used above has output of all species at each time step, but not the larger data sets needed to do flux plots. Calculate a run with flux option\n",
    "```\n",
    "iplot_flux_option = 1\n",
    "```\n",
    "turned on (set to 1) in `ppn_frame.input`. If you use the `run_iprocess.sh` script to set the neutron density in the `ppn_frame.input` file make sure you set the `iplot_flux_option` in `ppn_frame.input.template`.\n",
    "\n",
    "Unfortunately (don't ask why) the flux data files _have_ to be in the directory where the plot notebook is. Just `mv` (or `cp`) the file for cycle `cycle_to_plot`."
   ]
  },
  {
   "cell_type": "code",
   "execution_count": null,
   "metadata": {},
   "outputs": [],
   "source": [
    "flux_file = '../i-process-Nnconst/flux_'+str(cycle_to_plot).zfill(5)+'.DAT'\n",
    "%mv \"$flux_file\" ./"
   ]
  },
  {
   "cell_type": "code",
   "execution_count": null,
   "metadata": {},
   "outputs": [],
   "source": [
    "pa.abu_flux_chart(cycle_to_plot,ilabel=True,plotaxis=[74.5,99.5,52.5,62.5],lbound=(-11.5,-3.5),\\\n",
    "                  boxstable=True,which_flux=0,prange=5.5,profile='neutron',imagic=True)\n"
   ]
  },
  {
   "cell_type": "code",
   "execution_count": null,
   "metadata": {},
   "outputs": [],
   "source": []
  }
 ],
 "metadata": {
  "kernelspec": {
   "display_name": "Python 3",
   "language": "python",
   "name": "python3"
  },
  "language_info": {
   "codemirror_mode": {
    "name": "ipython",
    "version": 3
   },
   "file_extension": ".py",
   "mimetype": "text/x-python",
   "name": "python",
   "nbconvert_exporter": "python",
   "pygments_lexer": "ipython3",
   "version": "3.6.8"
  }
 },
 "nbformat": 4,
 "nbformat_minor": 4
}
