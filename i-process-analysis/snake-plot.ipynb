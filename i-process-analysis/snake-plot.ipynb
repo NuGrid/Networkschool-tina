{
 "cells": [
  {
   "cell_type": "markdown",
   "metadata": {},
   "source": [
    "## Snake plot\n",
    "Three- or four-element plots (we call them _snake_ plots) are especially useful to compare the predictions of different neutron density solutions with elemental ratios.  This is a plot where we have for each neutron density one dot in a three- or four-element plot.\n",
    "\n",
    "This is the _short_ version of the notebook that just plots precomputed one-zone equilibrium solutions with pre-selected JINABase observations of CEMP stars. There is a _long_ version that allows you to add additional model files that you may have created."
   ]
  },
  {
   "cell_type": "code",
   "execution_count": null,
   "metadata": {},
   "outputs": [],
   "source": [
    "%pylab ipympl\n",
    "from nugridpy import utils\n",
    "from nugridpy import ppn\n",
    "import pickle\n",
    "import sys, operator, glob, os"
   ]
  },
  {
   "cell_type": "code",
   "execution_count": 222,
   "metadata": {},
   "outputs": [],
   "source": [
    "data_dir = '/data/nugrid_data/projects/tina/iprocess-impact-MC/'\n",
    "casename = 'default'"
   ]
  },
  {
   "cell_type": "code",
   "execution_count": 91,
   "metadata": {},
   "outputs": [],
   "source": [
    "import jbutils # this is a local module in this directyory\n",
    "# data_dir needs to be the same in `jbutils.py` as above!"
   ]
  },
  {
   "cell_type": "code",
   "execution_count": 202,
   "metadata": {},
   "outputs": [
    {
     "data": {
      "text/plain": [
       "'/data/nugrid_data/projects/tina/iprocess-impact-MC/data_utils/Nn_elem_dict_default.pkl'"
      ]
     },
     "execution_count": 202,
     "metadata": {},
     "output_type": "execute_result"
    }
   ],
   "source": [
    "data_dir+'data_utils/Nn_elem_dict_'+casename+'.pkl'"
   ]
  },
  {
   "cell_type": "code",
   "execution_count": 223,
   "metadata": {},
   "outputs": [],
   "source": [
    "# read Nn_elem_dict.pkl for plotting\n",
    "# this file contains some precalculated constant density runs\n",
    "afile = open(data_dir+'data_utils/Nn_elem_dict_'+casename+'.pkl','rb') \n",
    "Nn,elem_dict = pickle.load(afile)\n",
    "afile.close()\n",
    "\n",
    "# in the long version you can create these files for different assumptions\n",
    "# and add them to the snake plot"
   ]
  },
  {
   "cell_type": "code",
   "execution_count": null,
   "metadata": {},
   "outputs": [],
   "source": [
    "# these are all the precomputed Nn cases:\n",
    "logNn = log10(array(list(Nn.values())))\n",
    "logNn"
   ]
  },
  {
   "cell_type": "code",
   "execution_count": 215,
   "metadata": {},
   "outputs": [
    {
     "data": {
      "text/plain": [
       "array([11.99839187, 12.50346382, 12.9983958 , 13.50378115, 13.99883409,\n",
       "       14.50421388, 14.99944549, 15.50521376])"
      ]
     },
     "execution_count": 215,
     "metadata": {},
     "output_type": "execute_result"
    }
   ],
   "source": [
    "# select from all Nn avails the onse you want\n",
    "ind_pre = [False,False,False,False,False,False,False,False,True,True,True,True,True,True,True,True,False]\n",
    "logNn[ind_pre]"
   ]
  },
  {
   "cell_type": "code",
   "execution_count": null,
   "metadata": {},
   "outputs": [],
   "source": [
    "plot_additional_snakes = False # set to true to plot the\n",
    "                               # additional cases you have created \n",
    "                               # new cases below\n",
    "\n",
    "# set elements to plot: \n",
    "# [els[0], els[1], els[2], els[3]] \n",
    "# [els[0]/els[1]] on x axis [els[2]/els[3]] on y axis\n",
    "els = ['Ba', 'La', 'La','Eu']\n",
    "# els = ['Ba', 'La', 'Ba','Eu']\n",
    "# els = ['Ce', 'Nd', 'La','Pr']\n",
    "\n",
    "# to set Nn colorbar range find \n",
    "min_,max_ = logNn[ind_pre].min(),logNn[ind_pre].max()\n",
    "\n",
    "size = 4\n",
    "close(74);figure(74,figsize=(1.6*size,size))\n",
    "jbutils.plot_elemratios(els=els,selections = ['S', 'I', 'R1', 'R2'], uls=False)        \n",
    "\n",
    "if plot_additional_snakes:\n",
    "    for i,snake_prefix in enumerate([\"preup\", \"predown\", \"rec\",\"up\", \"down\"]):\n",
    "        j = i+2\n",
    "        afile = open(\"Nn_elem_dict_Ba139_\"+snake_prefix+\".pkl\",'rb') \n",
    "        Nn_snake,elem_dict_snake = pickle.load(afile)\n",
    "        afile.close()\n",
    "    #     logNn = log10(array(list(Nn.values())))\n",
    "\n",
    "        # scatter(elem_dict[els[0]]-elem_dict[els[1]],elem_dict[els[2]]-elem_dict[els[3]],\\\n",
    "        #         c=logNn,cmap='jet')\n",
    "        plot(elem_dict_snake[els[0]]-elem_dict_snake[els[1]],elem_dict_snake[els[2]]-elem_dict_snake[els[3]],\\\n",
    "             utils.linestylecb(j)[1]+utils.linestylecb(i)[0], fillstyle='none',\\\n",
    "             color=utils.linestylecb(j)[2],label=snake_prefix,lw=0.75)\n",
    "\n",
    "# plot selected precomputed cases\n",
    "scatter(elem_dict[els[0]][ind_pre]-elem_dict[els[1]][ind_pre],elem_dict[els[2]][ind_pre]-elem_dict[els[3]][ind_pre],\\\n",
    "        c=logNn[ind_pre],cmap='Dark2')\n",
    "plot(elem_dict[els[0]][ind_pre]-elem_dict[els[1]][ind_pre],elem_dict[els[2]][ind_pre]-elem_dict[els[3]][ind_pre],'--',\\\n",
    "     color='grey',label='default')\n",
    "\n",
    "clim(min_, max_) # set the min/max of the colorbar \n",
    "cbar = colorbar()\n",
    "cbar.set_label('$\\mathsf{N_n}$', rotation=90)\n",
    "\n",
    "legend()\n",
    "xlim(-0.8,None),ylim(-.6,1.)\n",
    "xlabel('['+els[0]+'/'+els[1]+']');ylabel('['+els[2]+'/'+els[3]+']')\n",
    "tight_layout()\n",
    "savefig('BaLaEu-snake.pdf')"
   ]
  },
  {
   "cell_type": "markdown",
   "metadata": {},
   "source": [
    "## Add a snake from your own runs\n",
    "First run cases with changed reaction rates."
   ]
  },
  {
   "cell_type": "code",
   "execution_count": 178,
   "metadata": {},
   "outputs": [
    {
     "data": {
      "text/plain": [
       "'/user/falk_herwig/i-process-analysis'"
      ]
     },
     "execution_count": 178,
     "metadata": {},
     "output_type": "execute_result"
    }
   ],
   "source": [
    "pwd"
   ]
  },
  {
   "cell_type": "code",
   "execution_count": 271,
   "metadata": {},
   "outputs": [
    {
     "data": {
      "text/plain": [
       "'Ba139_rec'"
      ]
     },
     "execution_count": 271,
     "metadata": {},
     "output_type": "execute_result"
    }
   ],
   "source": [
    "my_run_dir='/user/falk-instructor/i-process-Nnconst/'\n",
    "snakes = [\"down\", \"rec\", \"up\"]\n",
    "# snakes = [\"preup\", \"predown\"]\n",
    "snake_prefix=\"Ba139_\"+snakes[1]\n",
    "snake_prefix"
   ]
  },
  {
   "cell_type": "code",
   "execution_count": 272,
   "metadata": {},
   "outputs": [
    {
     "data": {
      "text/plain": [
       "['/user/falk-instructor/i-process-Nnconst/Ba139_rec1.0d14',\n",
       " '/user/falk-instructor/i-process-Nnconst/Ba139_rec3.16d12',\n",
       " '/user/falk-instructor/i-process-Nnconst/Ba139_rec3.16d13',\n",
       " '/user/falk-instructor/i-process-Nnconst/Ba139_rec3.16d15',\n",
       " '/user/falk-instructor/i-process-Nnconst/Ba139_rec3.16d14',\n",
       " '/user/falk-instructor/i-process-Nnconst/Ba139_rec1.0d12',\n",
       " '/user/falk-instructor/i-process-Nnconst/Ba139_rec1.0d13',\n",
       " '/user/falk-instructor/i-process-Nnconst/Ba139_rec1.0d15']"
      ]
     },
     "execution_count": 272,
     "metadata": {},
     "output_type": "execute_result"
    }
   ],
   "source": [
    "# this is a list of your runs you made in ../i-process-Nnconst\n",
    "# ncases = glob.glob(my_run_dir+\"Baup*\")\n",
    "ncases = glob.glob(my_run_dir+snake_prefix+\"*\")\n",
    "ncases"
   ]
  },
  {
   "cell_type": "markdown",
   "metadata": {},
   "source": [
    "### Execute the cells below to create a pickle file of your calculated cases for plotting"
   ]
  },
  {
   "cell_type": "code",
   "execution_count": 273,
   "metadata": {},
   "outputs": [
    {
     "name": "stdout",
     "output_type": "stream",
     "text": [
      "/user/falk-instructor/i-process-Nnconst/Ba139_rec1.0d14\n",
      "524 cycle numbers found in /user/falk-instructor/i-process-Nnconst/Ba139_rec1.0d14\n",
      "Ranging from 00000 to 00523\n",
      "Range may not be continuous. To display all available cycles, print <abu_vector_instance>.files\n",
      "/user/falk-instructor/i-process-Nnconst/Ba139_rec3.16d12\n",
      "472 cycle numbers found in /user/falk-instructor/i-process-Nnconst/Ba139_rec3.16d12\n",
      "Ranging from 00000 to 00471\n",
      "Range may not be continuous. To display all available cycles, print <abu_vector_instance>.files\n",
      "/user/falk-instructor/i-process-Nnconst/Ba139_rec3.16d13\n",
      "495 cycle numbers found in /user/falk-instructor/i-process-Nnconst/Ba139_rec3.16d13\n",
      "Ranging from 00000 to 00494\n",
      "Range may not be continuous. To display all available cycles, print <abu_vector_instance>.files\n",
      "/user/falk-instructor/i-process-Nnconst/Ba139_rec3.16d15\n",
      "690 cycle numbers found in /user/falk-instructor/i-process-Nnconst/Ba139_rec3.16d15\n",
      "Ranging from 00000 to 00689\n",
      "Range may not be continuous. To display all available cycles, print <abu_vector_instance>.files\n",
      "/user/falk-instructor/i-process-Nnconst/Ba139_rec3.16d14\n",
      "564 cycle numbers found in /user/falk-instructor/i-process-Nnconst/Ba139_rec3.16d14\n",
      "Ranging from 00000 to 00563\n",
      "Range may not be continuous. To display all available cycles, print <abu_vector_instance>.files\n",
      "/user/falk-instructor/i-process-Nnconst/Ba139_rec1.0d12\n",
      "475 cycle numbers found in /user/falk-instructor/i-process-Nnconst/Ba139_rec1.0d12\n",
      "Ranging from 00000 to 00474\n",
      "Range may not be continuous. To display all available cycles, print <abu_vector_instance>.files\n",
      "/user/falk-instructor/i-process-Nnconst/Ba139_rec1.0d13\n",
      "478 cycle numbers found in /user/falk-instructor/i-process-Nnconst/Ba139_rec1.0d13\n",
      "Ranging from 00000 to 00477\n",
      "Range may not be continuous. To display all available cycles, print <abu_vector_instance>.files\n",
      "/user/falk-instructor/i-process-Nnconst/Ba139_rec1.0d15\n",
      "619 cycle numbers found in /user/falk-instructor/i-process-Nnconst/Ba139_rec1.0d15\n",
      "Ranging from 00000 to 00618\n",
      "Range may not be continuous. To display all available cycles, print <abu_vector_instance>.files\n"
     ]
    }
   ],
   "source": [
    "# %%capture\n",
    "# create dictionary only first time\n",
    "# to add new cases comment\n",
    "pa_cases = {} \n",
    "\n",
    "# create a ppn.abu_vector instance for each case\n",
    "for case in ncases:\n",
    "    print(case)\n",
    "    pa=ppn.abu_vector(os.path.join(\"/home/user/Network-school/falk_herwig/i-process-Nnconst\",case))\n",
    "    pa_cases[case] = pa"
   ]
  },
  {
   "cell_type": "markdown",
   "metadata": {},
   "source": [
    "Run the next cell to extract the elemental abundance and Nn dictionaries you need to add to the snake plot."
   ]
  },
  {
   "cell_type": "code",
   "execution_count": 274,
   "metadata": {},
   "outputs": [],
   "source": [
    "%%capture\n",
    "el_abu_log_dict_add={}; Nn_add={} \n",
    "data_dir = '/data/nugrid_data/projects/tina/iprocess-impact-MC/'\n",
    "sol_ab = data_dir+'one-zone-run_default/'+'../data_utils/iniab1.4E-02As09.ppn'\n",
    "for i,case in enumerate(ncases):\n",
    "    close(100+i);figure(100+i)\n",
    "    print (i,case)\n",
    "    cycle = int(pa_cases[case].files[-1].split('/')[-1].split('.')[0][-5:]) # this is the last cycle\n",
    "    pa_cases[case].elemental_abund(cycle,zrange=[25,85],ref_filename=sol_ab,ylim=[-2,8])  # elements only returned that are in zrange\n",
    "    el_abu_log_dict_add[case] = pa_cases[case].el_abu_log\n",
    "    Nn_add[case]              = pa_cases[case].get('densn',cycle)\n",
    "    title(case)\n"
   ]
  },
  {
   "cell_type": "markdown",
   "metadata": {},
   "source": [
    "The following cell will make sure your results are sorted by Nn so that a connected additional snake line is plotted. Also you will save this snake in a `.pkl` file."
   ]
  },
  {
   "cell_type": "code",
   "execution_count": 275,
   "metadata": {},
   "outputs": [
    {
     "data": {
      "text/plain": [
       "'Ba139_rec'"
      ]
     },
     "execution_count": 275,
     "metadata": {},
     "output_type": "execute_result"
    }
   ],
   "source": [
    "snake_prefix"
   ]
  },
  {
   "cell_type": "code",
   "execution_count": 276,
   "metadata": {},
   "outputs": [],
   "source": [
    "casename = snake_prefix\n",
    "# sort, create elem_dict and write if sort_Nn = True\n",
    "sort_Nn = True \n",
    "if sort_Nn:\n",
    "    Nnsorted = sorted(Nn_add.items(), key=operator.itemgetter(1))\n",
    "    cases_sorted = [Nnsorted[i][0] for i in range(len(Nnsorted))]\n",
    "    Nnsorted_add = {}\n",
    "    for case in cases_sorted: Nnsorted_add[case] = Nn_add[case]\n",
    "    #print(cases_sorted)\n",
    "\n",
    "    # create a elemental abundance dictionary in which for each available element \n",
    "    # the log elem abundance as extracted during elemental_abund plotting are available\n",
    "\n",
    "    elem_dict_add = {} #always start with a new dictionary\n",
    "\n",
    "    for element in pa.el_name:\n",
    "        elem_dict_add[element] = array([el_abu_log_dict_add[case][pa.el_name.index(element)] for case in cases_sorted])\n",
    "\n",
    "    # write elem_dict dictionary into python pickle\n",
    "    afile = open('Nn_elem_dict_'+casename+'.pkl', 'wb')\n",
    "    pickle.dump([Nnsorted_add,elem_dict_add], afile)\n",
    "    afile.close()"
   ]
  },
  {
   "cell_type": "code",
   "execution_count": 279,
   "metadata": {},
   "outputs": [
    {
     "name": "stdout",
     "output_type": "stream",
     "text": [
      "12K\tNn_elem_dict_Ba139_down.pkl\n",
      "12K\tNn_elem_dict_Ba139_predown.pkl\n",
      "12K\tNn_elem_dict_Ba139_preup.pkl\n",
      "12K\tNn_elem_dict_Ba139_rec.pkl\n",
      "12K\tNn_elem_dict_Ba139_up.pkl\n"
     ]
    }
   ],
   "source": [
    "!du -sh *pkl"
   ]
  },
  {
   "cell_type": "markdown",
   "metadata": {},
   "source": [
    "Plot again using `plot_additional_snakes = False`. "
   ]
  },
  {
   "cell_type": "code",
   "execution_count": null,
   "metadata": {},
   "outputs": [],
   "source": []
  }
 ],
 "metadata": {
  "kernelspec": {
   "display_name": "Python 3",
   "language": "python",
   "name": "python3"
  },
  "language_info": {
   "codemirror_mode": {
    "name": "ipython",
    "version": 3
   },
   "file_extension": ".py",
   "mimetype": "text/x-python",
   "name": "python",
   "nbconvert_exporter": "python",
   "pygments_lexer": "ipython3",
   "version": "3.6.8"
  }
 },
 "nbformat": 4,
 "nbformat_minor": 4
}
