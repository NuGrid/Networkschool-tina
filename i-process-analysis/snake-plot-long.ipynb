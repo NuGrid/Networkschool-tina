{
 "cells": [
  {
   "cell_type": "markdown",
   "metadata": {},
   "source": [
    "You will probably not need this notebook!! Maybe for later .... I just leave it here in case..."
   ]
  },
  {
   "cell_type": "code",
   "execution_count": null,
   "metadata": {},
   "outputs": [],
   "source": [
    "%pylab ipympl\n",
    "from nugridpy import ppn \n",
    "from nugridpy import utils\n",
    "import pickle\n",
    "import sys, operator, glob, os"
   ]
  },
  {
   "cell_type": "code",
   "execution_count": null,
   "metadata": {},
   "outputs": [],
   "source": [
    "pwd"
   ]
  },
  {
   "cell_type": "code",
   "execution_count": null,
   "metadata": {},
   "outputs": [],
   "source": [
    "data_dir = '/data/nugrid_data/projects/tina/iprocess-impact-MC/'\n",
    "casename = 'default'"
   ]
  },
  {
   "cell_type": "code",
   "execution_count": null,
   "metadata": {},
   "outputs": [],
   "source": [
    "import jbutils # this is a local module in this directyory\n",
    "\n",
    "# data_dir needs to be the same in `jbutils.py` as above!"
   ]
  },
  {
   "cell_type": "code",
   "execution_count": null,
   "metadata": {},
   "outputs": [],
   "source": [
    "# these are the available pre-computed one-zone ppn runs\n",
    "os.listdir(data_dir)"
   ]
  },
  {
   "cell_type": "markdown",
   "metadata": {},
   "source": [
    "Select neutron densities to include in analysis:"
   ]
  },
  {
   "cell_type": "code",
   "execution_count": null,
   "metadata": {},
   "outputs": [],
   "source": [
    "ydenn=arange(8,16.1,0.5) # this is the range of constant neutron densities \n",
    "                        # used in the multiple ppn runs\n",
    "ppn_cases = []\n",
    "for yd in ydenn:\n",
    "    denn=\"%7.1e\"%(10**yd)\n",
    "    ppn_cases.append('run_'+casename+'_denn'+str(denn))\n",
    "\n",
    "# check that list of cases actually exist in data_dir\n",
    "for case in ppn_cases:\n",
    "    if os.path.isdir(data_dir+case): \n",
    "        print(f\"{case} is in list\")\n",
    "    else:\n",
    "        print(f\"{case} dir does not exist\")\n",
    "        print(\"change `these_ppn_cases` list\")\n",
    "        "
   ]
  },
  {
   "cell_type": "code",
   "execution_count": null,
   "metadata": {},
   "outputs": [],
   "source": [
    "# %%capture\n",
    "# create dictionary only first time\n",
    "# to add new cases comment\n",
    "pa_cases = {} \n",
    "\n",
    "# create a ppn.abu_vector instance for each case\n",
    "for case in ppn_cases:\n",
    "    pa=ppn.abu_vector(os.path.join(data_dir+\"one-zone-run_default\",case))\n",
    "    pa_cases[case] = pa"
   ]
  },
  {
   "cell_type": "code",
   "execution_count": null,
   "metadata": {},
   "outputs": [],
   "source": [
    "# Test: check what cases are loaded\n",
    "pa_cases.keys()"
   ]
  },
  {
   "cell_type": "code",
   "execution_count": null,
   "metadata": {},
   "outputs": [],
   "source": [
    "# check individual ppn cases\n",
    "case = list(pa_cases.keys())[-1]\n",
    "# case = 'run_default_denn1.0e+15'\n",
    "print(case)"
   ]
  },
  {
   "cell_type": "code",
   "execution_count": null,
   "metadata": {},
   "outputs": [],
   "source": [
    "# Test: last cycle of case\n",
    "cycle = pa_cases[case].get('mod')[-1]    # this is the last cycle\n",
    "print(case,cycle)"
   ]
  },
  {
   "cell_type": "code",
   "execution_count": null,
   "metadata": {},
   "outputs": [],
   "source": [
    "%%capture --no-display\n",
    "\n",
    "# Test: iso_abundance plot\n",
    "\n",
    "size=3;ifig=110\n",
    "m1,m2 = 132,170; y1,y2 = -7, -2.2\n",
    "close(ifig);figure(ifig,figsize=(2*size,size))\n",
    "pa_cases[case].iso_abund(cycle, decayed=False, amass_range=(m1,m2),ylim=[y1,y2],point_set=0)\n",
    "text(0.9*m2,y2-0.5,\"$\\mathrm{2^{nd}}$ peak, undecayed\")\n",
    "tight_layout()"
   ]
  },
  {
   "cell_type": "code",
   "execution_count": null,
   "metadata": {},
   "outputs": [],
   "source": [
    "case"
   ]
  },
  {
   "cell_type": "code",
   "execution_count": null,
   "metadata": {},
   "outputs": [],
   "source": [
    "# Test: create x-time instance\n",
    "px=ppn.xtime(data_dir+'one-zone-run_default/'+case)"
   ]
  },
  {
   "cell_type": "code",
   "execution_count": null,
   "metadata": {},
   "outputs": [],
   "source": [
    "# Test: time evolution plot to check if equilibrium has been reached\n",
    "# doplot = False\n",
    "doplot = True\n",
    "if doplot:\n",
    "    close(114);figure(114)\n",
    "    logx=True\n",
    "    xthing = 'time'\n",
    "    #xthing = 'cycle'\n",
    "    if xthing == 'cycle': logx=False\n",
    "    things = ['FE 56','FE 57','NI 66','Y  91','Y  92','Y  93','Y  94','Y  95','Y  96',\\\n",
    "              'BA138','BA140','BA142','BA144','BA146','PB208']\n",
    "    for i,thing in enumerate(things):\n",
    "        px.plot(xthing,thing,shape=utils.linestylecb(i)[1]+utils.linestylecb(i)[0],logy=True,logx=logx,\\\n",
    "                markevery=utils.linestyle(i,55,5)[1],legend=thing,show=False)\n",
    "    ylabel('mass fraction');xlabel(\"log t/[yr]\")\n",
    "    ylim(-13,-1.7); xlim(-6,-1.5); title(\"\")\n",
    "    #ylim(-13,-1.7); xlim(0,4.5); title(\"\")\n",
    "    legend(loc=3,fontsize=8)"
   ]
  },
  {
   "cell_type": "code",
   "execution_count": null,
   "metadata": {},
   "outputs": [],
   "source": [
    "ppn_cases"
   ]
  },
  {
   "cell_type": "code",
   "execution_count": null,
   "metadata": {},
   "outputs": [],
   "source": [
    "%%capture\n",
    "# while doing an elemental abundance plot wrt solar abundance, \n",
    "# record scaled elemental abundance and neutron densities for further processing\n",
    "# elemental abundance plots are saved to png for the records\n",
    "\n",
    "el_abu_log_dict={}; Nn={}  # wither initialize for first time\n",
    "                            # or load previous from Nn_el_abu_unsorted.pkl\n",
    "\n",
    "cases = ppn_cases[-1:] # we will load later precomputed files, so maybe only do one case here\n",
    "cases = ppn_cases # we will load later precomputed files, so maybe only do one case here\n",
    "print(cases)\n",
    "sol_ab = data_dir+'one-zone-run_default/'+'../data_utils/iniab1.4E-02As09.ppn'\n",
    "for i,case in enumerate(ppn_cases):\n",
    "    close(100+i);figure(100+i)\n",
    "    print (i,case)\n",
    "    cycle = pa_cases[case].get('mod')[-1]                                                 # this is the last cycle\n",
    "    pa_cases[case].elemental_abund(cycle,zrange=[25,85],ref_filename=sol_ab,ylim=[-2,8])  # elements only returned that are in zrange\n",
    "    el_abu_log_dict[case] = pa_cases[case].el_abu_log\n",
    "    Nn[case]              = pa_cases[case].get('densn',cycle)\n",
    "    title(\"log Neutron density = %4.1f\"%log10(Nn[case]))\n",
    "    cc=\"%4.1f\"%log10(Nn[case])\n",
    "    cc=cc.strip().zfill(4)"
   ]
  },
  {
   "cell_type": "code",
   "execution_count": null,
   "metadata": {},
   "outputs": [],
   "source": [
    "pa_elname = pa.el_name"
   ]
  },
  {
   "cell_type": "code",
   "execution_count": null,
   "metadata": {},
   "outputs": [],
   "source": [
    "# write Nn_el_abu_unsorted.pkl only of you have done new runs\n",
    "write_Nn_unsorted = False \n",
    "if write_Nn_unsorted:\n",
    "    afile = open('Nn_el_abu_unsorted_'+casename+'.pkl', 'wb')\n",
    "    pickle.dump([el_abu_log_dict,Nn,pa.el_name], afile)\n",
    "    afile.close()"
   ]
  },
  {
   "cell_type": "code",
   "execution_count": null,
   "metadata": {},
   "outputs": [],
   "source": [
    "### load Nn_el_abu_unsorted.pkl\n",
    "load_Nn_unsorted = False \n",
    "if load_Nn_unsorted:\n",
    "    afile = open('Nn_el_abu_unsorted_'+casename+'.pkl','rb')\n",
    "    el_abu_log_dict,Nn,pa_elname = pickle.load(afile)\n",
    "    afile.close()"
   ]
  },
  {
   "cell_type": "code",
   "execution_count": null,
   "metadata": {},
   "outputs": [],
   "source": [
    "# At this point we have two dictionaries, Nn and el_abu_log_dict that do not \n",
    "# have to be sorted by Nn, maybe because you have added cases later, so let's\n",
    "# sort keys by Nn values:\n",
    "\n",
    "# sort, create elem_dict and write if sort_Nn = True\n",
    "sort_Nn = True \n",
    "if sort_Nn:\n",
    "    Nnsorted = sorted(Nn.items(), key=operator.itemgetter(1))\n",
    "    cases_sorted = [Nnsorted[i][0] for i in range(len(Nnsorted))]\n",
    "    Nnsorted = {}\n",
    "    for case in cases_sorted: Nnsorted[case] = Nn[case]\n",
    "    #print(cases_sorted)\n",
    "\n",
    "    # create a elemental abundance dictionary in which for each available element \n",
    "    # the log elem abundance as extracted during elemental_abund plotting are available\n",
    "\n",
    "    elem_dict = {} #always start with a new dictionary\n",
    "\n",
    "    for element in pa.el_name:\n",
    "    #    elem_dict[element] = array([el_abu_log_dict[case][pa_cases[case].el_name.index(element)] for case in ppn_cases]\n",
    "        elem_dict[element] = array([el_abu_log_dict[case][pa.el_name.index(element)] for case in cases_sorted])\n",
    "\n",
    "    # write elem_dict dictionary into python pickle\n",
    "    afile = open('Nn_elem_dict_'+casename+'.pkl', 'wb')\n",
    "    pickle.dump([Nnsorted,elem_dict], afile)\n",
    "    afile.close()"
   ]
  },
  {
   "cell_type": "markdown",
   "metadata": {},
   "source": [
    "Now, maybe you want to create a few runs with different nuclear physics assumptions. Create another `elem_dict` dictionary and write it into a python pickle file as well.\n",
    "\n",
    "Then you can come back and read these for furhter analysis.\n",
    "\n",
    "Or you come here for the first time, and want to just read and plot pre-calculated data:"
   ]
  },
  {
   "cell_type": "code",
   "execution_count": null,
   "metadata": {},
   "outputs": [],
   "source": [
    "read_another_Nn_elem = False\n",
    "# read Nn_elem_dict.pkl for plotting\n",
    "if read_another_Nn_elem:\n",
    "    afile = open('Nn_elem_dict_'+casename+'.pkl','rb') \n",
    "    Nn,elem_dict = pickle.load(afile)\n",
    "    afile.close()"
   ]
  },
  {
   "cell_type": "code",
   "execution_count": null,
   "metadata": {},
   "outputs": [],
   "source": [
    "read_another_Nn_elem = False\n",
    "# read other Nn_elem_dict.pkl for plotting, for examle a case with CS137(n,g) up\n",
    "if read_another_Nn_elem:\n",
    "    afile = open('Nn_elem_dict_'+casename+'.pkl','rb')\n",
    "    Nn_CS137up,elem_dict_CS137up = pickle.load(afile)\n",
    "    afile.close()"
   ]
  },
  {
   "cell_type": "markdown",
   "metadata": {},
   "source": [
    "## Snake plot\n",
    "Three- or four-element plots are especially useful to compare the different predictions of different neutron density predictions with elemental ratios. \n",
    "\n",
    "### Network predictions\n",
    "We use the elemental abundances extracted for these cases, maybe several sets, to make the _snake_ plot. This is a plot where we have for each neutron density one dot in a three- or four-element plot."
   ]
  },
  {
   "cell_type": "code",
   "execution_count": null,
   "metadata": {},
   "outputs": [],
   "source": [
    "# set elements to plot: \n",
    "# [els[0], els[1], els[2], els[3]] \n",
    "# [els[0]/els[1]] on x axis [els[2]/els[3]] on y axis\n",
    "els = ['Ba', 'La', 'La','Eu']\n",
    "# els = ['Ce', 'Nd', 'Sm','Eu']\n",
    "\n",
    "# to set Nn colorbar range find \n",
    "logNn = log10(array(list(Nn.values())))\n",
    "min_,max_ = logNn.min(),logNn.max()\n",
    "\n",
    "size = 6\n",
    "close(74);figure(74,figsize=(1.6*size,size))\n",
    "scatter(elem_dict[els[0]]-elem_dict[els[1]],elem_dict[els[2]]-elem_dict[els[3]],\\\n",
    "        c=logNn,cmap='jet')\n",
    "plot(elem_dict[els[0]]-elem_dict[els[1]],elem_dict[els[2]]-elem_dict[els[3]],'--',\\\n",
    "     color='grey',label='default')\n",
    "\n",
    "\n",
    "jbutils.plot_elemratios(els=els,selections = ['S', 'I', 'R1', 'R2'], uls=False)        \n",
    "\n",
    "clim(min_, max_) # set the min/max of the colorbar \n",
    "cbar = colorbar()\n",
    "cbar.set_label('$\\mathsf{N_n}$', rotation=90)\n",
    "\n",
    "\n",
    "# legend()\n",
    "xlim(-0.8,1.),ylim(-.6,1.3)\n",
    "xlabel('['+els[0]+'/'+els[1]+']');ylabel('['+els[2]+'/'+els[3]+']')\n",
    "tight_layout()\n"
   ]
  }
 ],
 "metadata": {
  "kernelspec": {
   "display_name": "Python 3",
   "language": "python",
   "name": "python3"
  },
  "language_info": {
   "codemirror_mode": {
    "name": "ipython",
    "version": 3
   },
   "file_extension": ".py",
   "mimetype": "text/x-python",
   "name": "python",
   "nbconvert_exporter": "python",
   "pygments_lexer": "ipython3",
   "version": "3.6.8"
  }
 },
 "nbformat": 4,
 "nbformat_minor": 4
}
