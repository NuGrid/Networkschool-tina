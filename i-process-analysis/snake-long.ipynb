{
 "cells": [
  {
   "cell_type": "code",
   "execution_count": 1,
   "metadata": {},
   "outputs": [
    {
     "name": "stdout",
     "output_type": "stream",
     "text": [
      "Populating the interactive namespace from numpy and matplotlib\n"
     ]
    }
   ],
   "source": [
    "%pylab ipympl\n",
    "from nugridpy import ppn \n",
    "from nugridpy import utils\n",
    "import pickle\n",
    "import sys, operator, glob, os"
   ]
  },
  {
   "cell_type": "code",
   "execution_count": 2,
   "metadata": {},
   "outputs": [
    {
     "data": {
      "text/plain": [
       "'/user/scratch14_wendi3/fherwig/i-process-tools/notebooks'"
      ]
     },
     "execution_count": 2,
     "metadata": {},
     "output_type": "execute_result"
    }
   ],
   "source": [
    "pwd"
   ]
  },
  {
   "cell_type": "code",
   "execution_count": 3,
   "metadata": {},
   "outputs": [],
   "source": [
    "# provide name of the ppn run directory\n",
    "# run_dir = '/user/scratch14_wendi3/dpa/nuppn/frames/ppn/RUN_i-process-tools/'\n",
    "data_dir = '/data/nugrid/data/iprocess-impact-MC/one-zone-run_default/'\n",
    "\n",
    "# and case name if it is different from default\n",
    "casename = 'default'"
   ]
  },
  {
   "cell_type": "code",
   "execution_count": 4,
   "metadata": {},
   "outputs": [
    {
     "data": {
      "text/plain": [
       "['run_default_denn1.0e+11',\n",
       " 'run_default_denn3.2e+15',\n",
       " 'run_default_denn1.0e+18',\n",
       " 'run_default_denn3.2e+13',\n",
       " 'run_default_denn3.2e+17',\n",
       " 'run_default_denn3.2e+10',\n",
       " 'run_default_denn3.2e+16',\n",
       " 'run_default_denn3.2e+14',\n",
       " 'run_default_denn3.2e+08',\n",
       " 'README_run.md',\n",
       " 'run_default_denn1.0e+17',\n",
       " 'run_default_denn1.0e+09',\n",
       " 'run_default_denn1.0e+12',\n",
       " 'run_default_denn1.0e+14',\n",
       " 'run_default_denn3.2e+11',\n",
       " 'run_default_denn1.0e+13',\n",
       " 'run_default_denn3.2e+07',\n",
       " 'run_default_denn1.0e+15',\n",
       " 'run_default_denn1.0e+10',\n",
       " 'run_default_denn1.0e+16',\n",
       " 'run_default_denn3.2e+09',\n",
       " 'run_default_denn1.0e+07',\n",
       " 'run_default_denn3.2e+12',\n",
       " 'run_default_denn1.0e+08']"
      ]
     },
     "execution_count": 4,
     "metadata": {},
     "output_type": "execute_result"
    }
   ],
   "source": [
    "# these are the available pre-computed one-zone ppn runs\n",
    "os.listdir(data_dir)"
   ]
  },
  {
   "cell_type": "markdown",
   "metadata": {},
   "source": [
    "Select neutron densities to include in analysis:"
   ]
  },
  {
   "cell_type": "code",
   "execution_count": 5,
   "metadata": {},
   "outputs": [
    {
     "name": "stdout",
     "output_type": "stream",
     "text": [
      "run_default_denn1.0e+10 is in list\n",
      "run_default_denn1.0e+11 is in list\n",
      "run_default_denn1.0e+12 is in list\n",
      "run_default_denn1.0e+13 is in list\n",
      "run_default_denn1.0e+14 is in list\n",
      "run_default_denn1.0e+15 is in list\n"
     ]
    }
   ],
   "source": [
    "ydenn=arange(10,15.1,1) # this is the range of constant neutron densities \n",
    "                        # used in the multiple ppn runs\n",
    "ppn_cases = []\n",
    "for yd in ydenn:\n",
    "    denn=\"%7.1e\"%(10**yd)\n",
    "    ppn_cases.append('run_'+casename+'_denn'+str(denn))\n",
    "\n",
    "# check that list of cases actually exist in data_dir\n",
    "for case in ppn_cases:\n",
    "    if os.path.isdir(data_dir+case): \n",
    "        print(f\"{case} is in list\")\n",
    "    else:\n",
    "        print(f\"{case} dir does not exist\")\n",
    "        print(\"change `these_ppn_cases` list\")\n",
    "        "
   ]
  },
  {
   "cell_type": "code",
   "execution_count": 6,
   "metadata": {},
   "outputs": [
    {
     "name": "stdout",
     "output_type": "stream",
     "text": [
      "584 cycle numbers found in /data/nugrid/data/iprocess-impact-MC/one-zone-run_default/run_default_denn1.0e+10\n",
      "Ranging from 00000 to 00583\n",
      "Range may not be continuous. To display all available cycles, print <abu_vector_instance>.files\n",
      "511 cycle numbers found in /data/nugrid/data/iprocess-impact-MC/one-zone-run_default/run_default_denn1.0e+11\n",
      "Ranging from 00000 to 00510\n",
      "Range may not be continuous. To display all available cycles, print <abu_vector_instance>.files\n",
      "475 cycle numbers found in /data/nugrid/data/iprocess-impact-MC/one-zone-run_default/run_default_denn1.0e+12\n",
      "Ranging from 00000 to 00474\n",
      "Range may not be continuous. To display all available cycles, print <abu_vector_instance>.files\n",
      "478 cycle numbers found in /data/nugrid/data/iprocess-impact-MC/one-zone-run_default/run_default_denn1.0e+13\n",
      "Ranging from 00000 to 00477\n",
      "Range may not be continuous. To display all available cycles, print <abu_vector_instance>.files\n",
      "524 cycle numbers found in /data/nugrid/data/iprocess-impact-MC/one-zone-run_default/run_default_denn1.0e+14\n",
      "Ranging from 00000 to 00523\n",
      "Range may not be continuous. To display all available cycles, print <abu_vector_instance>.files\n",
      "619 cycle numbers found in /data/nugrid/data/iprocess-impact-MC/one-zone-run_default/run_default_denn1.0e+15\n",
      "Ranging from 00000 to 00618\n",
      "Range may not be continuous. To display all available cycles, print <abu_vector_instance>.files\n"
     ]
    }
   ],
   "source": [
    "# %%capture\n",
    "# create dictionary only first time\n",
    "# to add new cases comment\n",
    "pa_cases = {} \n",
    "\n",
    "# create a ppn.abu_vector instance for each case\n",
    "for case in ppn_cases:\n",
    "    pa=ppn.abu_vector(os.path.join(data_dir,case))\n",
    "    pa_cases[case] = pa"
   ]
  },
  {
   "cell_type": "code",
   "execution_count": 7,
   "metadata": {},
   "outputs": [
    {
     "data": {
      "text/plain": [
       "dict_keys(['run_default_denn1.0e+10', 'run_default_denn1.0e+11', 'run_default_denn1.0e+12', 'run_default_denn1.0e+13', 'run_default_denn1.0e+14', 'run_default_denn1.0e+15'])"
      ]
     },
     "execution_count": 7,
     "metadata": {},
     "output_type": "execute_result"
    }
   ],
   "source": [
    "# Test: check what cases are loaded\n",
    "pa_cases.keys()"
   ]
  },
  {
   "cell_type": "code",
   "execution_count": 8,
   "metadata": {},
   "outputs": [
    {
     "name": "stdout",
     "output_type": "stream",
     "text": [
      "run_default_denn1.0e+15\n"
     ]
    }
   ],
   "source": [
    "# check individual ppn cases\n",
    "case = list(pa_cases.keys())[-1]\n",
    "# case = 'run_default_denn1.0e+15'\n",
    "print(case)"
   ]
  },
  {
   "cell_type": "code",
   "execution_count": 9,
   "metadata": {},
   "outputs": [
    {
     "name": "stdout",
     "output_type": "stream",
     "text": [
      "run_default_denn1.0e+15 618\n"
     ]
    }
   ],
   "source": [
    "# Test: last cycle of case\n",
    "cycle = pa_cases[case].get('mod')[-1]    # this is the last cycle\n",
    "print(case,cycle)"
   ]
  },
  {
   "cell_type": "code",
   "execution_count": 10,
   "metadata": {},
   "outputs": [
    {
     "data": {
      "application/vnd.jupyter.widget-view+json": {
       "model_id": "6df17af9556145a69a9bc6d530886180",
       "version_major": 2,
       "version_minor": 0
      },
      "text/plain": [
       "Canvas(toolbar=Toolbar(toolitems=[('Home', 'Reset original view', 'home', 'home'), ('Back', 'Back to previous …"
      ]
     },
     "metadata": {},
     "output_type": "display_data"
    }
   ],
   "source": [
    "%%capture --no-display\n",
    "\n",
    "# Test: iso_abundance plot\n",
    "\n",
    "size=3;ifig=110\n",
    "m1,m2 = 132,170; y1,y2 = -7, -2.2\n",
    "close(ifig);figure(ifig,figsize=(2*size,size))\n",
    "pa_cases[case].iso_abund(cycle, decayed=False, amass_range=(m1,m2),ylim=[y1,y2],point_set=0)\n",
    "text(0.9*m2,y2-0.5,\"$\\mathrm{2^{nd}}$ peak, undecayed\")\n",
    "tight_layout()"
   ]
  },
  {
   "cell_type": "code",
   "execution_count": 11,
   "metadata": {},
   "outputs": [
    {
     "name": "stdout",
     "output_type": "stream",
     "text": [
      "number of species:  5216\n",
      "number of cols:  5222\n",
      "There are 618 time steps found.\n"
     ]
    }
   ],
   "source": [
    "# Test: create x-time instance\n",
    "px=ppn.xtime(data_dir+case)"
   ]
  },
  {
   "cell_type": "code",
   "execution_count": 15,
   "metadata": {},
   "outputs": [
    {
     "data": {
      "application/vnd.jupyter.widget-view+json": {
       "model_id": "ef89d507d4ef406cb25ed5342710007c",
       "version_major": 2,
       "version_minor": 0
      },
      "text/plain": [
       "Canvas(toolbar=Toolbar(toolitems=[('Home', 'Reset original view', 'home', 'home'), ('Back', 'Back to previous …"
      ]
     },
     "metadata": {},
     "output_type": "display_data"
    }
   ],
   "source": [
    "# Test: time evolution plot to check if equilibrium has been reached\n",
    "# doplot = False\n",
    "doplot = True\n",
    "if doplot:\n",
    "    close(114);figure(114)\n",
    "    logx=True\n",
    "    xthing = 'time'\n",
    "    #xthing = 'cycle'\n",
    "    if xthing == 'cycle': logx=False\n",
    "    things = ['FE 56','FE 57','NI 66','Y  91','Y  92','Y  93','Y  94','Y  95','Y  96','BA138','BA140','BA142','BA144','BA146','PB208']\n",
    "    for i,thing in enumerate(things):\n",
    "        px.plot(xthing,thing,shape=utils.linestylecb(i)[1]+utils.linestylecb(i)[0],logy=True,logx=logx,\\\n",
    "                markevery=utils.linestyle(i,55,5)[1],legend=thing,show=False)\n",
    "    ylabel('mass fraction');xlabel(\"log t/[yr]\")\n",
    "    ylim(-13,-1.7); xlim(-6,-1.5); title(\"\")\n",
    "    #ylim(-13,-1.7); xlim(0,4.5); title(\"\")\n",
    "    legend(loc=3,fontsize=8)"
   ]
  },
  {
   "cell_type": "code",
   "execution_count": 16,
   "metadata": {},
   "outputs": [],
   "source": [
    "sol_ab = data_dir+'../data_utils/iniab1.4E-02As09.ppn'"
   ]
  },
  {
   "cell_type": "code",
   "execution_count": 17,
   "metadata": {},
   "outputs": [
    {
     "data": {
      "text/plain": [
       "['run_default_denn1.0e+10',\n",
       " 'run_default_denn1.0e+11',\n",
       " 'run_default_denn1.0e+12',\n",
       " 'run_default_denn1.0e+13',\n",
       " 'run_default_denn1.0e+14',\n",
       " 'run_default_denn1.0e+15']"
      ]
     },
     "execution_count": 17,
     "metadata": {},
     "output_type": "execute_result"
    }
   ],
   "source": [
    "ppn_cases"
   ]
  },
  {
   "cell_type": "code",
   "execution_count": 18,
   "metadata": {},
   "outputs": [
    {
     "name": "stdout",
     "output_type": "stream",
     "text": [
      "['run_default_denn1.0e+15']\n"
     ]
    },
    {
     "data": {
      "application/vnd.jupyter.widget-view+json": {
       "model_id": "d9c6ae4599e84a5a84e01112a161aaca",
       "version_major": 2,
       "version_minor": 0
      },
      "text/plain": [
       "Canvas(toolbar=Toolbar(toolitems=[('Home', 'Reset original view', 'home', 'home'), ('Back', 'Back to previous …"
      ]
     },
     "metadata": {},
     "output_type": "display_data"
    },
    {
     "name": "stdout",
     "output_type": "stream",
     "text": [
      "0 run_default_denn1.0e+15\n",
      "Calling get method in cycle mode, adding a_iso_to_plot, z.. el.. isotope.. isotope... to instance\n",
      "WARNING: decayed in _getcycle ignores isomers and will decay alpha-unstable p-rich nuclei as if they were beta+ stable.\n",
      "Initialising decay index pointers ....\n",
      "Th does not exist in this run\n",
      "U does not exist in this run\n",
      "At does not exist in this run\n",
      "Rn does not exist in this run\n",
      "Fr does not exist in this run\n",
      "Ra does not exist in this run\n",
      "Ac does not exist in this run\n",
      "Pa does not exist in this run\n",
      "Np does not exist in this run\n",
      "Pu does not exist in this run\n",
      "Am does not exist in this run\n",
      "Cm does not exist in this run\n",
      "Bk does not exist in this run\n",
      "Cf does not exist in this run\n",
      "It seems unstable species He-6 wants to decay to Li-6, however this species is not in this run. This points to an inconsistency in the network build. Here we will ignore the abundance of He-6.\n",
      "It seems unstable species Li-9 wants to decay to Be-9, however this species is not in this run. This points to an inconsistency in the network build. Here we will ignore the abundance of Li-9.\n",
      "It seems unstable species Be-10 wants to decay to B-10, however this species is not in this run. This points to an inconsistency in the network build. Here we will ignore the abundance of Be-10.\n",
      "Can't find element Th in isotopedatabase.txt\n",
      "WARNING:\n",
      "This initial abundance file uses an element name that does\n",
      "not contain the mass number in the 3rd to 5th position.\n",
      "It is assumed that this is the proton and we will change\n",
      "the name to 'h   1' to be consistent with the notation used in\n",
      "iniab.dat files\n"
     ]
    }
   ],
   "source": [
    "# %%capture\n",
    "# while doing an elemental abundance plot wrt solar abundance, \n",
    "# record scaled elemental abundance and neutron densities for further processing\n",
    "# elemental abundance plots are saved to png for the records\n",
    "\n",
    "el_abu_log_dict={}; Nn={}  # wither initialize for first time\n",
    "                            # or load previous from Nn_el_abu_unsorted.pkl\n",
    "\n",
    "cases = ppn_cases[-1:] # we will load later repcomputed files, so maybe only do one case here\n",
    "print(cases)\n",
    "for i,case in enumerate(ppn_cases[-1:]):\n",
    "    close(100+i);figure(100+i)\n",
    "    print (i,case)\n",
    "    cycle = pa_cases[case].get('mod')[-1]                                                 # this is the last cycle\n",
    "    pa_cases[case].elemental_abund(cycle,zrange=[25,85],ref_filename=sol_ab,ylim=[-2,8])  # elements only returned that are in zrange\n",
    "    el_abu_log_dict[case] = pa_cases[case].el_abu_log\n",
    "    Nn[case]              = pa_cases[case].get('densn',cycle)\n",
    "    title(\"log Neutron density = %4.1f\"%log10(Nn[case]))\n",
    "    cc=\"%4.1f\"%log10(Nn[case])\n",
    "    cc=cc.strip().zfill(4)"
   ]
  },
  {
   "cell_type": "code",
   "execution_count": 19,
   "metadata": {},
   "outputs": [],
   "source": [
    "# write Nn_el_abu_unsorted.pkl only of you have done new runs\n",
    "write_Nn_unsorted = False \n",
    "if write_Nn_unsorted:\n",
    "    afile = open('Nn_el_abu_unsorted_'+casename+'.pkl', 'wb')\n",
    "    pickle.dump([el_abu_log_dict,Nn,pa.el_name], afile)\n",
    "    afile.close()"
   ]
  },
  {
   "cell_type": "code",
   "execution_count": 20,
   "metadata": {},
   "outputs": [],
   "source": [
    "### load Nn_el_abu_unsorted.pkl\n",
    "load_Nn_unsorted = False \n",
    "if load_Nn_unsorted:\n",
    "    afile = open('Nn_el_abu_unsorted_'+casename+'.pkl','rb')\n",
    "    el_abu_log_dict,Nn,pa_elname = pickle.load(afile)\n",
    "    afile.close()"
   ]
  },
  {
   "cell_type": "code",
   "execution_count": 21,
   "metadata": {},
   "outputs": [],
   "source": [
    "# At this point we have two dictionaries, Nn and el_abu_log_dict that do not \n",
    "# have to be sorted by Nn, maybe because you have added cases later, so let's\n",
    "# sort keys by Nn values:\n",
    "\n",
    "# sort, create elem_dict and write if sort_Nn = True\n",
    "sort_Nn = False \n",
    "if sort_Nn:\n",
    "    Nnsorted = sorted(Nn.items(), key=operator.itemgetter(1))\n",
    "    cases_sorted = [Nnsorted[i][0] for i in range(len(Nnsorted))]\n",
    "    Nnsorted = {}\n",
    "    for case in cases_sorted: Nnsorted[case] = Nn[case]\n",
    "    #print(cases_sorted)\n",
    "\n",
    "    # create a elemental abundance dictionary in which for each available element \n",
    "    # the log elem abundance as extracted during elemental_abund plotting are available\n",
    "\n",
    "    elem_dict = {} #always start with a new dictionary\n",
    "\n",
    "    for element in pa.el_name:\n",
    "    #    elem_dict[element] = array([el_abu_log_dict[case][pa_cases[case].el_name.index(element)] for case in ppn_cases]\n",
    "        elem_dict[element] = array([el_abu_log_dict[case][pa.el_name.index(element)] for case in cases_sorted])\n",
    "\n",
    "    # write elem_dict dictionary into python pickle\n",
    "    afile = open('Nn_elem_dict_'+casename+'.pkl', 'wb')\n",
    "    pickle.dump([Nnsorted,elem_dict], afile)\n",
    "    afile.close()"
   ]
  },
  {
   "cell_type": "markdown",
   "metadata": {},
   "source": [
    "Now, maybe you want to create a few runs with different nuclear physics assumptions. Create another `elem_dict` dictionary and write it into a python pickle file as well.\n",
    "\n",
    "Then you can come back and read these for furhter analysis.\n",
    "\n",
    "Or you come here for the first time, and want to just read and plot pre-calculated data:"
   ]
  },
  {
   "cell_type": "code",
   "execution_count": 22,
   "metadata": {},
   "outputs": [],
   "source": [
    "# read Nn_elem_dict.pkl for plotting\n",
    "afile = open('Nn_elem_dict_'+casename+'.pkl','rb') \n",
    "Nn,elem_dict = pickle.load(afile)\n",
    "afile.close()"
   ]
  },
  {
   "cell_type": "code",
   "execution_count": 23,
   "metadata": {},
   "outputs": [],
   "source": [
    "read_another_Nn_elem = False\n",
    "# read other Nn_elem_dict.pkl for plotting, for examle a case with CS137(n,g) up\n",
    "if read_another_Nn_elem:\n",
    "    afile = open('Nn_elem_dict_'+casename+'.pkl','rb')\n",
    "    Nn_CS137up,elem_dict_CS137up = pickle.load(afile)\n",
    "    afile.close()"
   ]
  },
  {
   "cell_type": "markdown",
   "metadata": {},
   "source": [
    "## Snake plot\n",
    "Three- or four-element plots are especially useful to compare the different predictions of different neutron density predictions with elemental ratios. \n",
    "\n",
    "### Network predictions\n",
    "We use the elemental abundances extracted for these cases, maybe several sets, to make the _snake_ plot. This is a plot where we have for each neutron density one dot in a three- or four-element plot."
   ]
  },
  {
   "cell_type": "code",
   "execution_count": null,
   "metadata": {},
   "outputs": [],
   "source": [
    "# set elements to plot: \n",
    "# [el1, el2, el3, el4] \n",
    "# [el1/el2] on x axis [el3/el4] on y axis\n",
    "els = ['Ba', 'La', 'La','Eu']\n",
    "els = ['Ce', 'Nd', 'Sm','Eu']\n",
    "\n",
    "# to set Nn colorbar range find \n",
    "logNn = log10(array(list(Nn.values())))\n",
    "min_,max_ = logNn.min(),logNn.max()\n",
    "\n",
    "# if you have more than one series make sure you find the logNn min/max\n",
    "# for all sets:\n",
    "# Nns = np.concatenate([Nn_CS137a_log, Nna_log], axis=0)\n",
    "# min_, max_ = Nns.min(), Nns.max()\n",
    "\n",
    "el1,el2,el3,el4 = els\n",
    "size = 6\n",
    "close(74);figure(74,figsize=(1.6*size,size))\n",
    "scatter(elem_dict[el1]-elem_dict[el2],elem_dict[el3]-elem_dict[el4],\\\n",
    "        c=logNn,cmap='jet')\n",
    "plot(elem_dict[el1]-elem_dict[el2],elem_dict[el3]-elem_dict[el4],'--',\\\n",
    "     color=utils.colourblind(0),label='default')\n",
    "\n",
    "# plot second case\n",
    "plot_second = False\n",
    "if plot_second:\n",
    "    scatter(elem_dict_CS137up[el1]-elem_dict_CS137up[el2],elem_dict_CS137up[el3]-elem_dict_CS137up[el4],\\\n",
    "            c=log10(array(list(Nn_CS137up.values()))),cmap='jet')\n",
    "    plot(elem_dict_CS137up[el1]-elem_dict_CS137up[el2],elem_dict_CS137up[el3]-elem_dict_CS137up[el4],\\\n",
    "         ':',color=utils.colourblind(1),label='CS137up')\n",
    "\n",
    "clim(min_, max_) # set the min/max of the colorbar \n",
    "cbar = colorbar()\n",
    "cbar.set_label('$\\mathsf{N_n}$', rotation=90)\n",
    "legend()\n",
    "\n",
    "#xlim(-0.8,1.),ylim(-.6,1.3)\n",
    "xlabel('['+el1+'/'+el2+']');ylabel('['+el3+'/'+el4+']')"
   ]
  },
  {
   "cell_type": "markdown",
   "metadata": {},
   "source": [
    "### Observational data\n",
    "Next we add some data"
   ]
  },
  {
   "cell_type": "code",
   "execution_count": 22,
   "metadata": {},
   "outputs": [],
   "source": [
    "# First load in solar data, assuming it is in the same run_dir\n",
    "asp09name, asp09abu = [np.loadtxt(data_dir+'../data_utils/asplund2009_nugrid.txt',unpack=True, skiprows=1,usecols=i+1, dtype=dtype) \\\n",
    "                                 for i,dtype in enumerate([str,float])]\n",
    "\n",
    "# for i in range(len(asp09name)):\n",
    "#     print (i,asp09name[i],asp09abu[i])"
   ]
  },
  {
   "cell_type": "code",
   "execution_count": 23,
   "metadata": {},
   "outputs": [],
   "source": [
    "pickle_in = open(data_dir+'../data_utils/Jinabasedict.pickle',\"rb\")\n",
    "jb_dict,jb_elems = pickle.load(pickle_in)"
   ]
  },
  {
   "cell_type": "code",
   "execution_count": 24,
   "metadata": {},
   "outputs": [],
   "source": [
    "from matplotlib import pyplot as plp\n",
    "from nugridpy import utils as ut"
   ]
  },
  {
   "cell_type": "code",
   "execution_count": 25,
   "metadata": {},
   "outputs": [],
   "source": [
    "def is_upper_limit(upper_limit):\n",
    "    return not upper_limit\n",
    "\n",
    "def plot_elemratios(els, selections = ['S', 'I', 'R1', 'R2'], uls = True):\n",
    "    el1=els[0];el2=els[1];el3=els[2];el4=els[3]\n",
    "    ifig=2;plp.close(ifig);plp.figure(ifig)\n",
    "    for i, s in enumerate(selections):\n",
    "        plp.plot(get_jb_o(el1,s)['obs']-get_jb_o(el2,s)['obs'],get_jb_o(el3,s)['obs']-get_jb_o(el4,s)['obs'],marker='.',color=ut.linestylecb(i)[2],linestyle='',ms=12,label=s)\n",
    "   \n",
    "    if uls:\n",
    "        for i, s in enumerate(selections):    \n",
    "            for j in range(len(get_jb_o(el1,s)['ul'])): \n",
    "                # If both are upper limits\n",
    "                if is_upper_limit(get_jb_o(el1,s)['ul'][j]) and is_upper_limit(get_jb_o(el2,s)['ul'][j]):\n",
    "                    t = mpl.markers.MarkerStyle(marker='d')\n",
    "                    t._transform = t.get_transform().rotate_deg(90)\n",
    "                    x = get_jb_o(el1, s)['obs'][j] - get_jb_o(el2, s)['obs'][j] \n",
    "                    y = get_jb_o(el3, s)['obs'][j] - get_jb_o(el4, s)['obs'][j]\n",
    "                    \n",
    "                    plp.scatter(x, y, marker=t, s=40,facecolors='white', edgecolors=ut.linestylecb(i)[2],zorder=1000)\n",
    "                    \n",
    "                if is_upper_limit(get_jb_o(el3,s)['ul'][j]) and is_upper_limit(get_jb_o(el4,s)['ul'][j]):\n",
    "                    x = get_jb_o(el1, s)['obs'][j] - get_jb_o(el2, s)['obs'][j] \n",
    "                    y = get_jb_o(el3, s)['obs'][j] - get_jb_o(el4, s)['obs'][j]\n",
    "                    \n",
    "                    plp.scatter(x, y, marker='d', s=40,facecolors='white', edgecolors=ut.linestylecb(i)[2],zorder=1000)\n",
    "                \n",
    "                if is_upper_limit(get_jb_o(el1, s)['ul'][j]) and not is_upper_limit(get_jb_o(el2, s)['ul'][j]):\n",
    "                    x = get_jb_o(el1, s)['obs'][j] - get_jb_o(el2, s)['obs'][j] \n",
    "                    y = get_jb_o(el3, s)['obs'][j] - get_jb_o(el4, s)['obs'][j]\n",
    "                    \n",
    "                    plp.arrow(x, y,-0.05,0, ls = 'None', head_width=0.01, color = 'k')\n",
    "                    \n",
    "                elif is_upper_limit(get_jb_o(el2, s)['ul'][j]) and not is_upper_limit(get_jb_o(el1, s)['ul'][j]):\n",
    "                    x = get_jb_o(el1, s)['obs'][j] - get_jb_o(el2, s)['obs'][j] \n",
    "                    y = get_jb_o(el3, s)['obs'][j] - get_jb_o(el4, s)['obs'][j]\n",
    "                    \n",
    "                    plp.arrow(x, y,0.05,0, ls = 'None', head_width=0.01, color = 'k',zorder=100)\n",
    "                \n",
    "                if is_upper_limit(get_jb_o(el3, s)['ul'][j]) and not is_upper_limit(get_jb_o(el4, s)['ul'][j]):\n",
    "                    x = get_jb_o(el1, s)['obs'][j] - get_jb_o(el2,s)['obs'][j]\n",
    "                    y = get_jb_o(el3,s)['obs'][j] - get_jb_o(el4,s)['obs'][j] \n",
    "\n",
    "                    plp.arrow(x, y,0,-0.05, ls = 'None', head_width=0.01, color = 'k',zorder=100)\n",
    "                    \n",
    "                elif is_upper_limit(get_jb_o(el4,s)['ul'][j]) and not is_upper_limit(get_jb_o(el3, s)['ul'][j]):  \n",
    "                    x = get_jb_o(el1,s)['obs'][j] - get_jb_o(el2,s)['obs'][j] \n",
    "                    y = get_jb_o(el3,s)['obs'][j] - get_jb_o(el4,s)['obs'][j] \n",
    "                    \n",
    "                    plp.arrow(x, y,0,0.05, ls = 'None', head_width=0.01, color = 'k',zorder=10)    \n",
    "    \n",
    "    plp.legend(loc=0)\n",
    "    plp.xlabel(\"[\"+el1+\"/\"+el2+\"]\"); plp.ylabel(\"[\"+el3+\"/\"+el4+\"]\")"
   ]
  },
  {
   "cell_type": "code",
   "execution_count": 26,
   "metadata": {},
   "outputs": [],
   "source": [
    "def get_jb_o(elem,select='CR',jb_dict=jb_dict,jb_elems=jb_elems):\n",
    "    '''Get elemental abundance in JinaBase pickle for elem name and selection\n",
    "    '''\n",
    "    elem_abu = {}\n",
    "    elem_abu['obs'] = array([jb_dict[select][i][1][where(jb_elems == elem)].astype('float')[0] for i in range(len(jb_dict[select]))])\n",
    "    elem_abu_ul = array([jb_dict[select][i][2][where(jb_elems == elem)].astype('float')[0] for i in range(len(jb_dict[select]))])\n",
    "    elem_abu['ul'] = ( elem_abu_ul == 0 )   # boolean True for \"is not upper limit\"\n",
    "    return (elem_abu)"
   ]
  },
  {
   "cell_type": "code",
   "execution_count": 28,
   "metadata": {},
   "outputs": [],
   "source": [
    "import jbutils"
   ]
  },
  {
   "cell_type": "code",
   "execution_count": 29,
   "metadata": {},
   "outputs": [
    {
     "data": {
      "application/vnd.jupyter.widget-view+json": {
       "model_id": "32dfd17d7b514c0080dd8ef9afc3af2a",
       "version_major": 2,
       "version_minor": 0
      },
      "text/plain": [
       "Canvas(toolbar=Toolbar(toolitems=[('Home', 'Reset original view', 'home', 'home'), ('Back', 'Back to previous …"
      ]
     },
     "metadata": {},
     "output_type": "display_data"
    },
    {
     "ename": "NameError",
     "evalue": "name 'array' is not defined",
     "output_type": "error",
     "traceback": [
      "\u001b[0;31m---------------------------------------------------------------------------\u001b[0m",
      "\u001b[0;31mNameError\u001b[0m                                 Traceback (most recent call last)",
      "\u001b[0;32m<ipython-input-29-ef5f3be30569>\u001b[0m in \u001b[0;36m<module>\u001b[0;34m\u001b[0m\n\u001b[0;32m----> 1\u001b[0;31m \u001b[0mjbutils\u001b[0m\u001b[0;34m.\u001b[0m\u001b[0mplot_elemratios\u001b[0m\u001b[0;34m(\u001b[0m\u001b[0mels\u001b[0m\u001b[0;34m=\u001b[0m\u001b[0;34m[\u001b[0m\u001b[0;34m'Nd'\u001b[0m\u001b[0;34m,\u001b[0m\u001b[0;34m'Sm'\u001b[0m\u001b[0;34m,\u001b[0m\u001b[0;34m'Eu'\u001b[0m\u001b[0;34m,\u001b[0m\u001b[0;34m'Gd'\u001b[0m\u001b[0;34m]\u001b[0m\u001b[0;34m,\u001b[0m\u001b[0mselections\u001b[0m \u001b[0;34m=\u001b[0m \u001b[0;34m[\u001b[0m\u001b[0;34m'S'\u001b[0m\u001b[0;34m,\u001b[0m \u001b[0;34m'I'\u001b[0m\u001b[0;34m,\u001b[0m \u001b[0;34m'R1'\u001b[0m\u001b[0;34m,\u001b[0m \u001b[0;34m'R2'\u001b[0m\u001b[0;34m]\u001b[0m\u001b[0;34m,\u001b[0m \u001b[0muls\u001b[0m\u001b[0;34m=\u001b[0m\u001b[0;32mTrue\u001b[0m\u001b[0;34m)\u001b[0m\u001b[0;34m\u001b[0m\u001b[0;34m\u001b[0m\u001b[0m\n\u001b[0m",
      "\u001b[0;32m/user/scratch14_wendi3/fherwig/i-process-tools/notebooks/jbutils.py\u001b[0m in \u001b[0;36mplot_elemratios\u001b[0;34m(els, selections, uls)\u001b[0m\n\u001b[1;32m     18\u001b[0m     \u001b[0mifig\u001b[0m\u001b[0;34m=\u001b[0m\u001b[0;36m2\u001b[0m\u001b[0;34m;\u001b[0m\u001b[0mplp\u001b[0m\u001b[0;34m.\u001b[0m\u001b[0mclose\u001b[0m\u001b[0;34m(\u001b[0m\u001b[0mifig\u001b[0m\u001b[0;34m)\u001b[0m\u001b[0;34m;\u001b[0m\u001b[0mplp\u001b[0m\u001b[0;34m.\u001b[0m\u001b[0mfigure\u001b[0m\u001b[0;34m(\u001b[0m\u001b[0mifig\u001b[0m\u001b[0;34m)\u001b[0m\u001b[0;34m\u001b[0m\u001b[0;34m\u001b[0m\u001b[0m\n\u001b[1;32m     19\u001b[0m     \u001b[0;32mfor\u001b[0m \u001b[0mi\u001b[0m\u001b[0;34m,\u001b[0m \u001b[0ms\u001b[0m \u001b[0;32min\u001b[0m \u001b[0menumerate\u001b[0m\u001b[0;34m(\u001b[0m\u001b[0mselections\u001b[0m\u001b[0;34m)\u001b[0m\u001b[0;34m:\u001b[0m\u001b[0;34m\u001b[0m\u001b[0;34m\u001b[0m\u001b[0m\n\u001b[0;32m---> 20\u001b[0;31m         \u001b[0mplp\u001b[0m\u001b[0;34m.\u001b[0m\u001b[0mplot\u001b[0m\u001b[0;34m(\u001b[0m\u001b[0mget_jb_o\u001b[0m\u001b[0;34m(\u001b[0m\u001b[0mel1\u001b[0m\u001b[0;34m,\u001b[0m\u001b[0ms\u001b[0m\u001b[0;34m)\u001b[0m\u001b[0;34m[\u001b[0m\u001b[0;34m'obs'\u001b[0m\u001b[0;34m]\u001b[0m\u001b[0;34m-\u001b[0m\u001b[0mget_jb_o\u001b[0m\u001b[0;34m(\u001b[0m\u001b[0mel2\u001b[0m\u001b[0;34m,\u001b[0m\u001b[0ms\u001b[0m\u001b[0;34m)\u001b[0m\u001b[0;34m[\u001b[0m\u001b[0;34m'obs'\u001b[0m\u001b[0;34m]\u001b[0m\u001b[0;34m,\u001b[0m\u001b[0mget_jb_o\u001b[0m\u001b[0;34m(\u001b[0m\u001b[0mel3\u001b[0m\u001b[0;34m,\u001b[0m\u001b[0ms\u001b[0m\u001b[0;34m)\u001b[0m\u001b[0;34m[\u001b[0m\u001b[0;34m'obs'\u001b[0m\u001b[0;34m]\u001b[0m\u001b[0;34m-\u001b[0m\u001b[0mget_jb_o\u001b[0m\u001b[0;34m(\u001b[0m\u001b[0mel4\u001b[0m\u001b[0;34m,\u001b[0m\u001b[0ms\u001b[0m\u001b[0;34m)\u001b[0m\u001b[0;34m[\u001b[0m\u001b[0;34m'obs'\u001b[0m\u001b[0;34m]\u001b[0m\u001b[0;34m,\u001b[0m\u001b[0mmarker\u001b[0m\u001b[0;34m=\u001b[0m\u001b[0;34m'.'\u001b[0m\u001b[0;34m,\u001b[0m\u001b[0mcolor\u001b[0m\u001b[0;34m=\u001b[0m\u001b[0mut\u001b[0m\u001b[0;34m.\u001b[0m\u001b[0mlinestylecb\u001b[0m\u001b[0;34m(\u001b[0m\u001b[0mi\u001b[0m\u001b[0;34m)\u001b[0m\u001b[0;34m[\u001b[0m\u001b[0;36m2\u001b[0m\u001b[0;34m]\u001b[0m\u001b[0;34m,\u001b[0m\u001b[0mlinestyle\u001b[0m\u001b[0;34m=\u001b[0m\u001b[0;34m''\u001b[0m\u001b[0;34m,\u001b[0m\u001b[0mms\u001b[0m\u001b[0;34m=\u001b[0m\u001b[0;36m12\u001b[0m\u001b[0;34m,\u001b[0m\u001b[0mlabel\u001b[0m\u001b[0;34m=\u001b[0m\u001b[0ms\u001b[0m\u001b[0;34m)\u001b[0m\u001b[0;34m\u001b[0m\u001b[0;34m\u001b[0m\u001b[0m\n\u001b[0m\u001b[1;32m     21\u001b[0m \u001b[0;34m\u001b[0m\u001b[0m\n\u001b[1;32m     22\u001b[0m     \u001b[0;32mif\u001b[0m \u001b[0muls\u001b[0m\u001b[0;34m:\u001b[0m\u001b[0;34m\u001b[0m\u001b[0;34m\u001b[0m\u001b[0m\n",
      "\u001b[0;32m/user/scratch14_wendi3/fherwig/i-process-tools/notebooks/jbutils.py\u001b[0m in \u001b[0;36mget_jb_o\u001b[0;34m(elem, select, jb_dict, jb_elems)\u001b[0m\n\u001b[1;32m      6\u001b[0m     '''\n\u001b[1;32m      7\u001b[0m     \u001b[0melem_abu\u001b[0m \u001b[0;34m=\u001b[0m \u001b[0;34m{\u001b[0m\u001b[0;34m}\u001b[0m\u001b[0;34m\u001b[0m\u001b[0;34m\u001b[0m\u001b[0m\n\u001b[0;32m----> 8\u001b[0;31m     \u001b[0melem_abu\u001b[0m\u001b[0;34m[\u001b[0m\u001b[0;34m'obs'\u001b[0m\u001b[0;34m]\u001b[0m \u001b[0;34m=\u001b[0m \u001b[0marray\u001b[0m\u001b[0;34m(\u001b[0m\u001b[0;34m[\u001b[0m\u001b[0mjb_dict\u001b[0m\u001b[0;34m[\u001b[0m\u001b[0mselect\u001b[0m\u001b[0;34m]\u001b[0m\u001b[0;34m[\u001b[0m\u001b[0mi\u001b[0m\u001b[0;34m]\u001b[0m\u001b[0;34m[\u001b[0m\u001b[0;36m1\u001b[0m\u001b[0;34m]\u001b[0m\u001b[0;34m[\u001b[0m\u001b[0mwhere\u001b[0m\u001b[0;34m(\u001b[0m\u001b[0mjb_elems\u001b[0m \u001b[0;34m==\u001b[0m \u001b[0melem\u001b[0m\u001b[0;34m)\u001b[0m\u001b[0;34m]\u001b[0m\u001b[0;34m.\u001b[0m\u001b[0mastype\u001b[0m\u001b[0;34m(\u001b[0m\u001b[0;34m'float'\u001b[0m\u001b[0;34m)\u001b[0m\u001b[0;34m[\u001b[0m\u001b[0;36m0\u001b[0m\u001b[0;34m]\u001b[0m \u001b[0;32mfor\u001b[0m \u001b[0mi\u001b[0m \u001b[0;32min\u001b[0m \u001b[0mrange\u001b[0m\u001b[0;34m(\u001b[0m\u001b[0mlen\u001b[0m\u001b[0;34m(\u001b[0m\u001b[0mjb_dict\u001b[0m\u001b[0;34m[\u001b[0m\u001b[0mselect\u001b[0m\u001b[0;34m]\u001b[0m\u001b[0;34m)\u001b[0m\u001b[0;34m)\u001b[0m\u001b[0;34m]\u001b[0m\u001b[0;34m)\u001b[0m\u001b[0;34m\u001b[0m\u001b[0;34m\u001b[0m\u001b[0m\n\u001b[0m\u001b[1;32m      9\u001b[0m     \u001b[0melem_abu_ul\u001b[0m \u001b[0;34m=\u001b[0m \u001b[0marray\u001b[0m\u001b[0;34m(\u001b[0m\u001b[0;34m[\u001b[0m\u001b[0mjb_dict\u001b[0m\u001b[0;34m[\u001b[0m\u001b[0mselect\u001b[0m\u001b[0;34m]\u001b[0m\u001b[0;34m[\u001b[0m\u001b[0mi\u001b[0m\u001b[0;34m]\u001b[0m\u001b[0;34m[\u001b[0m\u001b[0;36m2\u001b[0m\u001b[0;34m]\u001b[0m\u001b[0;34m[\u001b[0m\u001b[0mwhere\u001b[0m\u001b[0;34m(\u001b[0m\u001b[0mjb_elems\u001b[0m \u001b[0;34m==\u001b[0m \u001b[0melem\u001b[0m\u001b[0;34m)\u001b[0m\u001b[0;34m]\u001b[0m\u001b[0;34m.\u001b[0m\u001b[0mastype\u001b[0m\u001b[0;34m(\u001b[0m\u001b[0;34m'float'\u001b[0m\u001b[0;34m)\u001b[0m\u001b[0;34m[\u001b[0m\u001b[0;36m0\u001b[0m\u001b[0;34m]\u001b[0m \u001b[0;32mfor\u001b[0m \u001b[0mi\u001b[0m \u001b[0;32min\u001b[0m \u001b[0mrange\u001b[0m\u001b[0;34m(\u001b[0m\u001b[0mlen\u001b[0m\u001b[0;34m(\u001b[0m\u001b[0mjb_dict\u001b[0m\u001b[0;34m[\u001b[0m\u001b[0mselect\u001b[0m\u001b[0;34m]\u001b[0m\u001b[0;34m)\u001b[0m\u001b[0;34m)\u001b[0m\u001b[0;34m]\u001b[0m\u001b[0;34m)\u001b[0m\u001b[0;34m\u001b[0m\u001b[0;34m\u001b[0m\u001b[0m\n\u001b[1;32m     10\u001b[0m     \u001b[0melem_abu\u001b[0m\u001b[0;34m[\u001b[0m\u001b[0;34m'ul'\u001b[0m\u001b[0;34m]\u001b[0m \u001b[0;34m=\u001b[0m \u001b[0;34m(\u001b[0m \u001b[0melem_abu_ul\u001b[0m \u001b[0;34m==\u001b[0m \u001b[0;36m0\u001b[0m \u001b[0;34m)\u001b[0m   \u001b[0;31m# boolean True for \"is not upper limit\"\u001b[0m\u001b[0;34m\u001b[0m\u001b[0;34m\u001b[0m\u001b[0m\n",
      "\u001b[0;31mNameError\u001b[0m: name 'array' is not defined"
     ]
    }
   ],
   "source": [
    "jbutils.plot_elemratios(els=['Nd','Sm','Eu','Gd'],selections = ['S', 'I', 'R1', 'R2'], uls=True)        "
   ]
  },
  {
   "cell_type": "code",
   "execution_count": null,
   "metadata": {},
   "outputs": [],
   "source": []
  }
 ],
 "metadata": {
  "kernelspec": {
   "display_name": "Python 3",
   "language": "python",
   "name": "python3"
  },
  "language_info": {
   "codemirror_mode": {
    "name": "ipython",
    "version": 3
   },
   "file_extension": ".py",
   "mimetype": "text/x-python",
   "name": "python",
   "nbconvert_exporter": "python",
   "pygments_lexer": "ipython3",
   "version": "3.6.8"
  }
 },
 "nbformat": 4,
 "nbformat_minor": 4
}
