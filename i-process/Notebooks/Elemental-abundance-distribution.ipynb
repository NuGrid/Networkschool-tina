{
 "cells": [
  {
   "cell_type": "markdown",
   "metadata": {},
   "source": [
    "# Elemental abundance distribution and comparison with observation\n",
    "This notebook allows to plot the elemental abundance distribution and compare it with observations. Elemental abundance distributions can be scaled in different ways and this notebook shows all options we use for research. "
   ]
  },
  {
   "cell_type": "markdown",
   "metadata": {},
   "source": [
    "ppn run results are saved run directory created with the `save_run.sh` script. Runs are of one of three types as selected in the `ppn_frame.input` file. The cases are\n",
    "1. `2ndpeak`\n",
    "2. `Sakurai`\n",
    "3. `weak`"
   ]
  },
  {
   "cell_type": "code",
   "execution_count": null,
   "metadata": {},
   "outputs": [],
   "source": [
    "# select a case from the following ones:\n",
    "# case = '2ndpeak'\n",
    "# case = 'Sakurai'\n",
    "case = 'weak'"
   ]
  },
  {
   "cell_type": "markdown",
   "metadata": {},
   "source": [
    "### Initializing the notebook"
   ]
  },
  {
   "cell_type": "code",
   "execution_count": null,
   "metadata": {},
   "outputs": [],
   "source": [
    "%pylab ipympl\n",
    "from nugridpy import ppn\n",
    "from nugridpy import utils"
   ]
  },
  {
   "cell_type": "markdown",
   "metadata": {},
   "source": [
    "The following cell identifies default analysis parameters for each run, such as the time steps to be compared to observations."
   ]
  },
  {
   "cell_type": "code",
   "execution_count": null,
   "metadata": {},
   "outputs": [],
   "source": [
    "if case == 'Sakurai':\n",
    "    ppn_cycle = 509 # most plots are made for this cycle    \n",
    "    ppn_dilute = 0.8 # adjust dilution coefficient for the last plot\n",
    "    star=case # observed elemental abundances are supposed to be in file star.txt\n",
    "    Zpin = 39 # atomic number of the element used to pin abundance distribution profile\n",
    "    selected_cycles = [495,500,505,509] # observed abundances are fitted for these cycles\n",
    "    clr = utils.colourblind(0)\n",
    "elif case == '2ndpeak':\n",
    "    ppn_cycle = 830 # most plots are made for this cycle    \n",
    "    ppn_dilute = 0.0025 # adjust dilution coefficient for the last plot\n",
    "    star=case # observed elemental abundances are supposed to be in file star.txt\n",
    "    Zpin = 57 # atomic number of the element used to pin abundance distribution profile\n",
    "    selected_cycles = [800,830,860,891] # observed abundances are fitted for these cycles\n",
    "    clr = utils.colourblind(1)\n",
    "elif case == 'weak':\n",
    "    ppn_cycle = 511 # most plots are made for this cycle    \n",
    "    ppn_dilute = 0.0025 # adjust dilution coefficient for the last plot\n",
    "    star=case # observed elemental abundances are supposed to be in file star.txt\n",
    "    Zpin = 33 # atomic number of the element used to pin abundance distribution profile\n",
    "    selected_cycles = [509,510,511,512] # observed abundances are fitted for these cycles\n",
    "    clr = utils.colourblind(2)"
   ]
  },
  {
   "cell_type": "code",
   "execution_count": null,
   "metadata": {},
   "outputs": [],
   "source": [
    "rundir = 'master-result'\n",
    "#rundir = 'I135ng_up3'"
   ]
  },
  {
   "cell_type": "code",
   "execution_count": null,
   "metadata": {
    "scrolled": true
   },
   "outputs": [],
   "source": [
    "# read in ppn run results\n",
    "pa=ppn.abu_vector('../'+rundir)"
   ]
  },
  {
   "cell_type": "markdown",
   "metadata": {},
   "source": [
    "## Basic elemental abundance plot\n",
    "The `elemental_abund` method of an `abu_vector` method plots the decayed elemental mass fraction abundances for a given cycle.\n",
    "\n",
    "Use command\n",
    "```Python\n",
    "pa.elemental_abund?\n",
    "```\n",
    "to view the doc string with all options explained.\n",
    "\n",
    "Below we first show  the most basic plot, and then show variations, including comparison with observed abundances and $\\chi^2$ fitting."
   ]
  },
  {
   "cell_type": "code",
   "execution_count": null,
   "metadata": {},
   "outputs": [],
   "source": [
    "pa.elemental_abund?"
   ]
  },
  {
   "cell_type": "code",
   "execution_count": null,
   "metadata": {},
   "outputs": [],
   "source": [
    "close(1);figure(1)\n",
    "\n",
    "pa.elemental_abund(0,ylim=[-14,-2],zrange=[25,85], label='cycle  0')\n",
    "pa.elemental_abund(ppn_cycle,ylim=[-14,-2],zrange=[25,85], label='cycle '+str(ppn_cycle), colour=clr, \\\n",
    "                   plotlines='--', plotlabels=True, mark='x')\n",
    "legend(loc=2)"
   ]
  },
  {
   "cell_type": "markdown",
   "metadata": {},
   "source": [
    "## Relative mass fractions\n",
    "\n",
    "Often we want to know how the abundance distribution has changed with respect to an earlier time step or a model from a different run. We can plot mass fractions with reference to another dataset using the ref option. By setting ref > -1 we divide the mass fraction for the selected cycle by the mass fraction for cycle `ref=N`. The most common use is to compare to the initial abundances stored in cycle `0` (`ref=0`). The y-label will show the reference cycle."
   ]
  },
  {
   "cell_type": "code",
   "execution_count": null,
   "metadata": {},
   "outputs": [],
   "source": [
    "close(2);figure(2)\n",
    "\n",
    "pa.elemental_abund(ppn_cycle,ref=0,\\\n",
    "                   zrange=[25,85],ylim=[-3,8],colour=clr)"
   ]
  },
  {
   "cell_type": "markdown",
   "metadata": {},
   "source": [
    "#### Reference files \n",
    "\n",
    "We can also use a given abundance file as a reference in the USEEPP data format, such as 'iniab1.4E-02As09.ppn', by using the ref_filename option.\n",
    "This will set ref=-2, however setting the ref value manually will override the solar option."
   ]
  },
  {
   "cell_type": "code",
   "execution_count": null,
   "metadata": {},
   "outputs": [],
   "source": [
    "pwd"
   ]
  },
  {
   "cell_type": "code",
   "execution_count": null,
   "metadata": {},
   "outputs": [],
   "source": [
    "close(3);figure(3)\n",
    "\n",
    "# initial (usually, solar) abundances are supposed to be in this directory\n",
    "iniab_dir = '../../USEEPP/'\n",
    "\n",
    "pa.elemental_abund(ppn_cycle,ref_filename=iniab_dir+'iniab1.4E-02As09.ppn',\\\n",
    "                   zrange=[25,85],ylim=[-5,5],colour=clr)\n",
    "ylabel('$\\log_{10}\\,X/X_\\odot$')"
   ]
  },
  {
   "cell_type": "markdown",
   "metadata": {},
   "source": [
    "## Scaling by pinning to an observed elemental abundance\n",
    "\n",
    "To improve comparison to observed data the elemental abundanc distribution can be _pinned_ to a certain value. All abundances are scaled by the same factor so that the simulated abundance of a particular element (the pinning element) matches exactly a particular value at the plotted cycle. For example, the star HD 94028 as a value of [As/Fe] of 0.63 and by selecting As as the pinning element and setting the pinning value to 0.63 the simul;ated abundance distribution is scaled for the given cycle such that the simulated and observed As abundance are the same in the plot. This method makes sense if the observed abundances are believed to originate in just one site and are dominantly present with large overabundances. \n",
    "\n",
    "The pinning process calculates an 'offset' which is the difference between the cycle [X/Fe] value and the observed [X/Fe] value.\n",
    "\n",
    "    offset = [X/Fe]_obs - [X/Fe]_cycle\n",
    "    \n",
    "The offset is then added (in log space) to every element to shift the plot."
   ]
  },
  {
   "cell_type": "markdown",
   "metadata": {},
   "source": [
    "### Using the z_pin option\n",
    "First we just do one cycle `ppn_cycle` and the pinning element (`z_pin` option) specified in the parameter block for the given case at the beginning of this notebook.\n",
    "\n",
    "Prepare a list of atomic numbers of the elements for which a $\\chi^2$ test will be performed:"
   ]
  },
  {
   "cell_type": "code",
   "execution_count": null,
   "metadata": {},
   "outputs": [],
   "source": [
    "# list of Z for test\n",
    "if case == 'Sakurai':\n",
    "    ztest = [37,38,39,40]\n",
    "elif case == '2ndpeak':\n",
    "    ztest = []\n",
    "    zbeg = 56; zend = 72\n",
    "    for z in range(zbeg,zend+1):\n",
    "        ztest.append(z)\n",
    "elif case == 'weak':\n",
    "    ztest = [32,34,38,39,40,42,44,46,48]\n",
    "    \n",
    "print (case,type(ztest),ztest)"
   ]
  },
  {
   "cell_type": "markdown",
   "metadata": {},
   "source": [
    "#### Using an observation data file\n",
    "\n",
    "We can use an observed abundance distribution to set the pinning value. The file name is specified with the pin_filename option. The requirements for the file are columns containing `Z`, `[X/Fe]`, `sigma_xfe`, and `ul` (charge number, [X/Fe], uncertainty in the [X/Fe] value, and an upper limit binary).\n",
    "\n",
    "The observation is compared to the value of [X/Fe] for the simulation number and the reference cycle. A $\\chi^2$ test is conducted for elements with Z in the range provided with the `zchi2` argument and result is returned from the function call. The test takes a few seconds for each cycle."
   ]
  },
  {
   "cell_type": "code",
   "execution_count": null,
   "metadata": {},
   "outputs": [],
   "source": [
    "close(10);figure(10)\n",
    "\n",
    "if case == 'Sakurai':\n",
    "    chi2 = pa.elemental_abund(ppn_cycle,ref=0,z_pin=Zpin,label=case,\\\n",
    "                pin_filename='obsab_'+case+'.dat',zchi2=ztest,\\\n",
    "                ylim=[1,4],zrange=[36.5,41],colour=clr,plotlabels=True)\n",
    "elif case == '2ndpeak':\n",
    "    chi2 = pa.elemental_abund(ppn_cycle,ref=0,z_pin=Zpin,label=case,\\\n",
    "                pin_filename='obsab_'+case+'.dat',zchi2=ztest,\\\n",
    "                ylim=[0.5,3.5],zrange=[54.5,82],colour=clr,plotlabels=True)\n",
    "elif case == 'weak':\n",
    "    chi2 = pa.elemental_abund(ppn_cycle,ref=0,z_pin=Zpin,label=case,\\\n",
    "                pin_filename='obsab_'+case+'.dat',zchi2=ztest,\\\n",
    "                ylim=[-1,2],zrange=[27.5,50],colour=clr,plotlabels=True)    \n",
    "legend(loc=1,frameon=False)\n",
    "print(\"Chi-squared: {:.3f}\".format(chi2[0]))"
   ]
  },
  {
   "cell_type": "markdown",
   "metadata": {},
   "source": [
    "#### Performing $\\chi^2$ tests for a series of cycles to determine best fit\n",
    "Select the cycles for which the test will be performed.\n"
   ]
  },
  {
   "cell_type": "code",
   "execution_count": null,
   "metadata": {},
   "outputs": [],
   "source": [
    "cycles = selected_cycles  # use the default list defined in the parameter list at the top\n",
    "ncyc = len(cycles)\n",
    "chi2 = linspace(0,0,ncyc) # this array holds the chi2 values, one for each cycle\n",
    "print (cycles)"
   ]
  },
  {
   "cell_type": "code",
   "execution_count": null,
   "metadata": {},
   "outputs": [],
   "source": [
    "close(4);figure(4)\n",
    "\n",
    "for i in range(ncyc):\n",
    "    ifplotlabels = False\n",
    "    if i == 0:\n",
    "        ifplotlabels = True\n",
    "    icyc = cycles[i]\n",
    "    if case == 'Sakurai':\n",
    "        chi2[i] = pa.elemental_abund(icyc,ref=0,z_pin=Zpin,\\\n",
    "                   pin_filename='obsab_'+case+'.dat',zchi2=ztest,\\\n",
    "                   ylim=[1.0,4.0],zrange=[36.5,41],colour=utils.colourblind(i),plotlabels=ifplotlabels,label='timestep '+str(icyc))\n",
    "    elif case == '2ndpeak':\n",
    "        chi2[i] = pa.elemental_abund(icyc,ref=0,z_pin=Zpin,\\\n",
    "                   pin_filename='obsab_'+case+'.dat',zchi2=ztest,\\\n",
    "                   ylim=[0.5,3.5],zrange=[54.5,82],colour=utils.colourblind(i),plotlabels=ifplotlabels,label='timestep '+str(icyc))\n",
    "    elif case == 'weak':\n",
    "        chi2[i] = pa.elemental_abund(icyc,ref=0,z_pin=Zpin,\\\n",
    "                   pin_filename='obsab_'+case+'.dat',zchi2=ztest,\\\n",
    "                   ylim=[-1,2],zrange=[27.5,50],colour=utils.colourblind(i),plotlabels=ifplotlabels,label='timestep '+str(icyc))\n",
    "legend(frameon=False)\n",
    "grid(False)\n",
    "\n",
    "ylabel('[X/Fe]')"
   ]
  },
  {
   "cell_type": "markdown",
   "metadata": {},
   "source": [
    "Next we print the $\\chi^2$ values. From these cycles number 830 has the smallest value and represents the best fit."
   ]
  },
  {
   "cell_type": "code",
   "execution_count": null,
   "metadata": {},
   "outputs": [],
   "source": [
    "for i in range(ncyc):\n",
    "    print (i,cycles[i],chi2[i])"
   ]
  },
  {
   "cell_type": "markdown",
   "metadata": {},
   "source": [
    "## Other plotting options\n"
   ]
  },
  {
   "cell_type": "markdown",
   "metadata": {},
   "source": [
    "### Using a manual pin\n",
    "Without an observational data file a pin value can be manually entered."
   ]
  },
  {
   "cell_type": "code",
   "execution_count": null,
   "metadata": {},
   "outputs": [],
   "source": [
    "close(5);figure(5)\n",
    "if case == 'Sakurai':\n",
    "    pa.elemental_abund(ppn_cycle,ref=0,z_pin=Zpin,pin=2.84,\\\n",
    "                   ylim=[1,4],zrange=[36.5,41],colour=clr)\n",
    "elif case == '2ndpeak':\n",
    "    pa.elemental_abund(ppn_cycle,ref=0,z_pin=Zpin,pin=2.10,\\\n",
    "                   ylim=[0.5,3.5],zrange=[54.5,82],colour=clr)\n",
    "elif case == 'weak':\n",
    "    pa.elemental_abund(ppn_cycle,ref=0,z_pin=Zpin,pin=0.62,\\\n",
    "                   ylim=[-1,2],zrange=[27.5,50],colour=clr)"
   ]
  },
  {
   "cell_type": "markdown",
   "metadata": {},
   "source": [
    "### log eps\n",
    "Sometimes observations are given in the unit $\\log \\epsilon$ and predicted abundances can be given in those units by setting `logeps=True`."
   ]
  },
  {
   "cell_type": "code",
   "execution_count": null,
   "metadata": {},
   "outputs": [],
   "source": [
    "close(6);figure(6)\n",
    "pa.elemental_abund(ppn_cycle,logeps=True,zrange=[1,85],\\\n",
    "                   ylim=[-6,10],colour=clr)"
   ]
  },
  {
   "cell_type": "markdown",
   "metadata": {},
   "source": [
    "### Dilution and direct [X/Fe] calculations\n",
    "The above method of calculating the [X/Fe] value using a pinning mechanism is an approximation, using log(X/X_sol) as a proxy for [X/Fe]. This approximation is made for stars whose internal convective behaviour cannot be or has not been modeled. \n",
    "\n",
    "We can directly calculate [X/Fe] for a star using the dilution option to define the dilution coefficient for our case. This method has inherent limitations in that for many cases, [X/Fe]<0 will not be feasible as local Fe is depleted during nucleosynthesis processes."
   ]
  },
  {
   "cell_type": "code",
   "execution_count": null,
   "metadata": {},
   "outputs": [],
   "source": [
    "close(7);figure(7)\n",
    "obsab_dir = './'\n",
    "if case == 'Sakurai':\n",
    "    pa.elemental_abund(ppn_cycle,ref_filename=iniab_dir+'iniab1.4E-02As09.ppn',dilution=ppn_dilute,\\\n",
    "                pin_filename=obsab_dir+'obsab_'+case+'.dat',\\\n",
    "                ylim=[1.0,4.0],zrange=[36.5,41],colour=clr,plotlines='-',plotlabels=True,\\\n",
    "                label=case+', cycle '+str(ppn_cycle),mark='')\n",
    "elif case == '2ndpeak':\n",
    "    pa.elemental_abund(ppn_cycle,ref_filename=iniab_dir+'iniab1.4E-02As09.ppn',dilution=0.0025,\\\n",
    "                pin_filename=obsab_dir+'obsab_'+case+'.dat',\\\n",
    "                ylim=[0.5,3.5],zrange=[54.5,82],colour=clr,plotlines='-',plotlabels=True,\\\n",
    "                label=case+', cycle '+str(ppn_cycle),mark='') \n",
    "elif case == 'weak':\n",
    "    pa.elemental_abund(ppn_cycle,ref_filename=iniab_dir+'iniab1.4E-02As09.ppn',dilution=0.00065,\\\n",
    "                pin_filename=obsab_dir+'obsab_'+case+'.dat',\\\n",
    "                ylim=[-1,2],zrange=[27.5,50],colour=clr,plotlines='-',plotlabels=True,\\\n",
    "                label=case+', cycle '+str(ppn_cycle),mark='') \n",
    "    \n",
    "ylabel('[X/Fe]')\n",
    "grid(False)\n",
    "legend(frameon=False)"
   ]
  },
  {
   "cell_type": "markdown",
   "metadata": {},
   "source": [
    "## Isotopic abundance plots"
   ]
  },
  {
   "cell_type": "code",
   "execution_count": null,
   "metadata": {},
   "outputs": [],
   "source": [
    "decayed = False\n",
    "close(8);figure(8)\n",
    "obsab_dir = './'\n",
    "if case == 'Sakurai':\n",
    "    pa.iso_abund(ppn_cycle,decayed=decayed,amass_range=(70,110),ylim=[-9,-5])\n",
    "elif case == '2ndpeak':\n",
    "    pa.iso_abund(ppn_cycle,decayed=decayed,amass_range=(120,170),ylim=[-9,-5])\n",
    "elif case == 'weak':\n",
    "    pa.iso_abund(ppn_cycle,decayed=decayed,amass_range=(50,90),ylim=[-10,-5.5])\n",
    "\n",
    "grid(False)\n",
    "legend(frameon=False)"
   ]
  }
 ],
 "metadata": {
  "kernelspec": {
   "display_name": "Python 3",
   "language": "python",
   "name": "python3"
  },
  "language_info": {
   "codemirror_mode": {
    "name": "ipython",
    "version": 3
   },
   "file_extension": ".py",
   "mimetype": "text/x-python",
   "name": "python",
   "nbconvert_exporter": "python",
   "pygments_lexer": "ipython3",
   "version": "3.6.8"
  }
 },
 "nbformat": 4,
 "nbformat_minor": 4
}
