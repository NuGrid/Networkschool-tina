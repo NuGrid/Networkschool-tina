{
 "cells": [
  {
   "cell_type": "markdown",
   "metadata": {},
   "source": [
    "# Neutron density and exposure"
   ]
  },
  {
   "cell_type": "code",
   "execution_count": null,
   "metadata": {},
   "outputs": [],
   "source": [
    "# ppn run results are supposed to be in directory ppn_dir+'ppn_run_test_'+case,\n",
    "# where case is 'Sakurai', '2ndpeak', or 'weak'\n",
    "\n",
    "# select a case from the following ones:\n",
    "case = '2ndpeak'\n",
    "#case = 'Sakurai'\n",
    "#case = 'weak'"
   ]
  },
  {
   "cell_type": "markdown",
   "metadata": {},
   "source": [
    "### Initializing the notebook"
   ]
  },
  {
   "cell_type": "code",
   "execution_count": null,
   "metadata": {},
   "outputs": [],
   "source": [
    "%pylab ipympl\n",
    "from nugridpy import ppn\n",
    "from nugridpy import utils\n",
    "from nugridpy import astronomy as ast\n",
    "from scipy import integrate\n",
    "from astropy import constants as c"
   ]
  },
  {
   "cell_type": "code",
   "execution_count": null,
   "metadata": {},
   "outputs": [],
   "source": [
    "# constants in SI units\n",
    "NAv = c.N_A.value\n",
    "kB  = c.k_B.value # Boltzmann_constant             \n",
    "mn =  c.m_n.value # neutron mass\n",
    "oneyear=utils.constants.one_year # seconds in one year\n",
    "print (\"Avogadro number:\",NAv,\"\\nBoltzmann constant:\",kB,\"\\nneutron mass:\",mn,\"\\nseconds per year:\",oneyear)"
   ]
  },
  {
   "cell_type": "code",
   "execution_count": null,
   "metadata": {},
   "outputs": [],
   "source": [
    "case = '2ndpeak'\n",
    "rundir = 'master-result'\n",
    "#rundir = 'I135ng_up3'"
   ]
  },
  {
   "cell_type": "code",
   "execution_count": null,
   "metadata": {},
   "outputs": [],
   "source": [
    "f0=ppn.xtime('../'+rundir)   # an x-time instance"
   ]
  },
  {
   "cell_type": "code",
   "execution_count": null,
   "metadata": {},
   "outputs": [],
   "source": [
    "# prepare quantities to plot\n",
    "\n",
    "cycles=f0.get(\"cycle\")\n",
    "first_cycle = int(min(cycles))\n",
    "last_cycle = int(max(cycles))\n",
    "\n",
    "xn  = f0.get(\"NEUT\")\n",
    "age = f0.get(\"time\")\n",
    "rho = f0.get(\"rho\")\n",
    "t9  = f0.get(\"t9\")\n",
    "\n",
    "age_s=age*oneyear\n",
    "T = t9*1e9\n",
    "vnth = sqrt(2.*kB*T/mn)            # neutron thermal velocity\n",
    "den = 1e6*rho                      # density in kg/ccm; rho is in g/ccm\n",
    "Nn = xn*NAv*den *1e-6              # neutron density in particles per ccm\n",
    "logNn = log10(Nn)\n",
    "fint = (Nn*1e6)*vnth\n",
    "tau=integrate.cumtrapz(fint,age_s) # integrate neutron exposure\n",
    "tau=tau*1e-31                      # neutron exposure in millibarn^-1; millibarn=1e-31 m^2"
   ]
  },
  {
   "cell_type": "markdown",
   "metadata": {},
   "source": [
    "## Neutron density"
   ]
  },
  {
   "cell_type": "code",
   "execution_count": null,
   "metadata": {},
   "outputs": [],
   "source": [
    "ifig=1;close(ifig);figure(ifig)\n",
    "plot(age_s,log10(Nn))\n",
    "ylim(7,17)\n",
    "xlabel(\"time (s)\")\n",
    "ylabel(\"$N_\\mathrm{n}$\")\n",
    "title(case+' '+rundir)"
   ]
  },
  {
   "cell_type": "markdown",
   "metadata": {},
   "source": [
    "## Neutron exposure"
   ]
  },
  {
   "cell_type": "code",
   "execution_count": null,
   "metadata": {},
   "outputs": [],
   "source": [
    "ifig=2;close(ifig);figure(ifig)\n",
    "plot(age_s[1:],tau)\n",
    "xlabel(\"time (s)\")\n",
    "ylabel(\"$ \\\\tau [\\mathrm{mbarn}^{-1}]$\")\n",
    "title(case+' '+rundir)"
   ]
  },
  {
   "cell_type": "markdown",
   "metadata": {},
   "source": [
    "## Neutron exposure and neutron density"
   ]
  },
  {
   "cell_type": "code",
   "execution_count": null,
   "metadata": {},
   "outputs": [],
   "source": [
    "fig, ax1 = plt.subplots()\n",
    "name1 = '$N_\\mathrm{n}$'\n",
    "lns1 = ax1.semilogy(age_s/60., Nn, color=utils.linestylecb(0)[2], linestyle=utils.linestylecb(0)[0],\\\n",
    "            label=name1)\n",
    "ax1.set_xlabel('time (min)')\n",
    "# Make the y-axis label, ticks and tick labels match the line color.\n",
    "ax1.set_ylabel(name1+'$\\ [\\mathrm{cm}^{-3}]$')\n",
    "ax1.tick_params('y')\n",
    "ax1.set_ylim(1e11,10.**ceil(log10(max(Nn))))\n",
    "\n",
    "ax2 = ax1.twinx()\n",
    "name2 = '$\\\\tau$'\n",
    "lns2 = ax2.semilogy(age_s[1:]/60., tau, color=utils.linestylecb(1)[2], linestyle=utils.linestylecb(1)[0],\\\n",
    "            label=name2)\n",
    "ax2.set_ylabel(name2+'$\\ [\\mathrm{mbarn}^{-1}]$')\n",
    "ax2.tick_params('y')\n",
    "ax2.set_ylim(1e-1,None)\n",
    "\n",
    "# added these three lines\n",
    "lns = lns1+lns2\n",
    "labs = [l.get_label() for l in lns]\n",
    "ax2.legend(lns, labs, loc=5, frameon=False)\n",
    "\n",
    "title(case)\n",
    "\n",
    "fig.tight_layout()\n",
    "show()"
   ]
  },
  {
   "cell_type": "code",
   "execution_count": null,
   "metadata": {},
   "outputs": [],
   "source": []
  },
  {
   "cell_type": "code",
   "execution_count": null,
   "metadata": {},
   "outputs": [],
   "source": []
  }
 ],
 "metadata": {
  "anaconda-cloud": {},
  "kernelspec": {
   "display_name": "Python 3",
   "language": "python",
   "name": "python3"
  },
  "language_info": {
   "codemirror_mode": {
    "name": "ipython",
    "version": 3
   },
   "file_extension": ".py",
   "mimetype": "text/x-python",
   "name": "python",
   "nbconvert_exporter": "python",
   "pygments_lexer": "ipython3",
   "version": "3.6.8"
  }
 },
 "nbformat": 4,
 "nbformat_minor": 4
}
