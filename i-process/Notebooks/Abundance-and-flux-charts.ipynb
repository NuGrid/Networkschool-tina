{
 "cells": [
  {
   "cell_type": "markdown",
   "metadata": {},
   "source": [
    "# Plot charts of nuclides and reaction fluxes for one-zone i-process ppn run"
   ]
  },
  {
   "cell_type": "code",
   "execution_count": null,
   "metadata": {},
   "outputs": [],
   "source": [
    "# select a case from the following ones:\n",
    "case = '2ndpeak'\n",
    "#case = 'Sakurai'\n",
    "#case = 'weak'"
   ]
  },
  {
   "cell_type": "markdown",
   "metadata": {},
   "source": [
    "### Initializing the notebook"
   ]
  },
  {
   "cell_type": "code",
   "execution_count": null,
   "metadata": {},
   "outputs": [],
   "source": [
    "%pylab ipympl\n",
    "from nugridpy import ppn"
   ]
  },
  {
   "cell_type": "code",
   "execution_count": null,
   "metadata": {},
   "outputs": [],
   "source": [
    "case = '2ndpeak'\n",
    "rundir = 'master-result'"
   ]
  },
  {
   "cell_type": "code",
   "execution_count": null,
   "metadata": {},
   "outputs": [],
   "source": [
    "# ppn run results are in this directory\n",
    "pa=ppn.abu_vector('../'+rundir)"
   ]
  },
  {
   "cell_type": "markdown",
   "metadata": {},
   "source": [
    "## The next cell makes a copy of the file `flux_cycle_to_plot.DAT` in the notebooks directory"
   ]
  },
  {
   "cell_type": "code",
   "execution_count": null,
   "metadata": {},
   "outputs": [],
   "source": [
    "# plots will be made for this cycle\n",
    "# these are defaults\n",
    "if case == 'Sakurai':\n",
    "    cycle_to_plot = 509\n",
    "elif case == '2ndpeak':\n",
    "    cycle_to_plot = 891\n",
    "elif case == 'weak':\n",
    "    cycle_to_plot = 511\n",
    "\n",
    "flux_file = '../'+rundir+'/flux_'+str(cycle_to_plot).zfill(5)+'.DAT'\n",
    "%cp \"$flux_file\" ./"
   ]
  },
  {
   "cell_type": "code",
   "execution_count": null,
   "metadata": {},
   "outputs": [],
   "source": [
    "for i in range(10): close(i)"
   ]
  },
  {
   "cell_type": "code",
   "execution_count": null,
   "metadata": {},
   "outputs": [],
   "source": [
    "ifig=1;close(ifig)\n",
    "# make a plot of a chart of reaction fluxes\n",
    "if case == 'Sakurai':\n",
    "    pa.abu_flux_chart(cycle_to_plot,ilabel=True,plotaxis=[45.5,62.5,34.5,40.5],lbound=(-11.5,-3.5),\\\n",
    "                  boxstable=True,which_flux=0,prange=5.5,profile='neutron',imagic=True)\n",
    "elif case == '2ndpeak':\n",
    "    pa.abu_flux_chart(cycle_to_plot,ilabel=True,plotaxis=[74.5,99.5,52.5,62.5],lbound=(-11.5,-3.5),\\\n",
    "                  boxstable=True,which_flux=0,prange=5.5,profile='neutron',imagic=True)\n",
    "#     pa.abu_flux_chart(cycle_to_plot,ilabel=True,plotaxis=[90.5,118.5,62.5,72.5],lbound=(-11.5,-3.5),\\\n",
    "#                   boxstable=True,which_flux=0,prange=5.5,profile='neutron',imagic=True)\n",
    "if case == 'weak':\n",
    "    pa.abu_flux_chart(cycle_to_plot,ilabel=True,plotaxis=[34.5,60.5,25.5,40.5],lbound=(-11.5,-3.5),\\\n",
    "                  boxstable=True,which_flux=0,prange=5.5,profile='neutron',imagic=True)"
   ]
  },
  {
   "cell_type": "code",
   "execution_count": null,
   "metadata": {},
   "outputs": [],
   "source": [
    "# make a plot of a chart of isotopic abundances\n",
    "if case == 'Sakurai':\n",
    "    ifig=5;close(ifig);figure(ifig)\n",
    "    pa.abu_chart(cycle_to_plot,plotaxis=[29.5,95.5,24.5,60.5],imlabel_fontsize=4,lbound=(-12,-4),ifig=ifig)\n",
    "elif case == '2ndpeak':\n",
    "    ifig=5;close(ifig);figure(ifig)\n",
    "    pa.abu_chart(cycle_to_plot,plotaxis=[48.5,94.5,40.5,68.5],imlabel_fontsize=4,lbound=(-12,-4),ifig=ifig)\n",
    "    ifig=6;close(ifig);figure(ifig)\n",
    "    pa.abu_chart(cycle_to_plot,plotaxis=[94.5,140.5,68.5,83.5],imlabel_fontsize=4,lbound=(-12,-4),ifig=ifig)\n",
    "elif case == 'weak':\n",
    "    ifig=5;close(ifig);figure(ifig)\n",
    "    pa.abu_chart(cycle_to_plot,plotaxis=[34.5,60.5,25.5,40.5],imlabel_fontsize=4,lbound=(-12,-4),ifig=ifig)"
   ]
  }
 ],
 "metadata": {
  "kernelspec": {
   "display_name": "Python 3",
   "language": "python",
   "name": "python3"
  },
  "language_info": {
   "codemirror_mode": {
    "name": "ipython",
    "version": 3
   },
   "file_extension": ".py",
   "mimetype": "text/x-python",
   "name": "python",
   "nbconvert_exporter": "python",
   "pygments_lexer": "ipython3",
   "version": "3.6.8"
  }
 },
 "nbformat": 4,
 "nbformat_minor": 4
}
