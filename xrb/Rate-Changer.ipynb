{
 "cells": [
  {
   "cell_type": "markdown",
   "metadata": {},
   "source": [
    "# Rate Changer Notebook for nova Project\n",
    "\n",
    "## Overview\n",
    "Your job is to change the reaction rates for one or several isotopes for the following reaction types that have to also be specified after isotope's name: ``(n,g)``, ``(p,g)``, or ``(p,a)``, where ``n`` stands for neutron, ``p`` for proton, ``a`` for alpha particle ($^4$He nucleus), and ``g`` for gamma photon. The reaction rate essentially specifies the average time it takes for a nucleus to capture a neutron or a proton. A fast rate will make the time short, a slow rate will make the time long. The change is specified as a factor that the rate is multiplied with. For example, a factor of 10 means the new rate is a factor of 10 faster compared to what is currently used. A factor of 0.1 would make the rate 10 times slower. \n",
    "\n",
    "## Instructions Step 1: Specify the desired changes\n",
    "The desired changes (discuss with your group for which isotopes you want to change the rate and by how much - factors of 10 or 0.1 are good but you can try different things) need to be listed in the file called `new_mult_factors.txt`. You need to do the following: \n",
    "1. Open the file `new_mult_factors.txt` by clicking on it in the file manager to the left.\n",
    "2. Add any species followed by one of the above three reaction types and the factor that is to be applied to the rate, one per line. Note that the formatting of the species and reaction type names must always be\n",
    "    - 5 characters long\n",
    "    - use only upper case letters for the element name and lower case letters for the reaction type\n",
    "    - pad with spaces so that the species' mass number aligns with the end of the 5 character string `I 135` and not `I135`\n",
    "3. Save the file `new_mult_factors.txt` with the File menu `save` option. There are some examples that you can use as template. "
   ]
  },
  {
   "cell_type": "markdown",
   "metadata": {},
   "source": [
    "## Instructions Step 2: Implement changes in new file\n",
    "Execution of the next cell will execute the program `change_mult_factors.exe` which will implement the changes. It will use the file template_networksetup.txt, make changes to it, and create a new updated networksetup_new.txt file. "
   ]
  },
  {
   "cell_type": "code",
   "execution_count": 1,
   "metadata": {},
   "outputs": [
    {
     "name": "stdout",
     "output_type": "stream",
     "text": [
      " The new_mult_factors.txt file has      3 isotopes.\n",
      "STOP New networksetup_new.txt file created.\n"
     ]
    }
   ],
   "source": [
    "./change_mult_factors.exe"
   ]
  },
  {
   "cell_type": "markdown",
   "metadata": {},
   "source": [
    "## Instructions Step 3: Rename new file so it will be used in the next model calculation\n",
    "The following cell will copy the file new_networksetup.txt into networksetup.txt thereby overwriting the old networksetup.txt with the new version. networksetup.txt is what the Model-Runner in your group will use to do the model calculation. Once you executed the following cell, the Model Runner can run a new model with the changed rates. "
   ]
  },
  {
   "cell_type": "code",
   "execution_count": 2,
   "metadata": {},
   "outputs": [],
   "source": [
    "cp new_networksetup.txt networksetup.txt"
   ]
  },
  {
   "cell_type": "markdown",
   "metadata": {},
   "source": [
    "## Just for Fun - And to check you did everything correctly\n",
    "The follwing cell executes the `diff` command which shows the difference between two files line by line. If you did everything correctly only the lines corresponding to reactions you wanted to change should appear. For each change the new version is shown as < and the old version as > back to back. The change factor should be the second last number in a line. Can you make sense of the reaction description? "
   ]
  },
  {
   "cell_type": "code",
   "execution_count": 3,
   "metadata": {},
   "outputs": [
    {
     "name": "stdout",
     "output_type": "stream",
     "text": [
      "5256,5257c5256,5257\n",
      "<      25 F  1  F  19  +  1  PROT   ->  1  O  16  +  1  HE  4   0.000E+00  VITAL  (p,a)   8   1.000E+01   0.000E+00\n",
      "<      26 F  1  F  19  +  1  PROT   ->  1  NE 20  +  0  OOOOO   0.000E+00  VITAL  (p,g)   5   1.000E-02   0.000E+00\n",
      "---\n",
      ">      25 F  1  F  19  +  1  PROT   ->  1  O  16  +  1  HE  4   0.000E+00  VITAL  (p,a)   8   1.000E+00   0.000E+00\n",
      ">      26 F  1  F  19  +  1  PROT   ->  1  NE 20  +  0  OOOOO   0.000E+00  VITAL  (p,g)   5   1.000E+00   0.000E+00\n",
      "5707c5707\n",
      "<     476 T  1  F  19  +  1  NEUT   ->  1  F  20  +  0  OOOOO   0.262E+08  KADON  (n,g)   1   1.000E-02   6.369E+18\n",
      "---\n",
      ">     476 T  1  F  19  +  1  NEUT   ->  1  F  20  +  0  OOOOO   0.262E+08  KADON  (n,g)   1   1.000E+00   6.369E+18\n",
      "5711c5711\n",
      "<     480 T  1  F  19  +  1  PROT   ->  1  NE 20  +  0  OOOOO   0.431E-06  NACRR  (p,g)   5   1.000E-02   1.239E+19\n",
      "---\n",
      ">     480 T  1  F  19  +  1  PROT   ->  1  NE 20  +  0  OOOOO   0.431E-06  NACRR  (p,g)   5   1.000E+00   1.239E+19\n",
      "5714c5714\n",
      "<     483 T  1  F  19  +  1  PROT   ->  1  O  16  +  1  HE  4   0.165E-02  NACRR  (p,a)   8   1.000E+01   7.829E+18\n",
      "---\n",
      ">     483 T  1  F  19  +  1  PROT   ->  1  O  16  +  1  HE  4   0.165E-02  NACRR  (p,a)   8   1.000E+00   7.829E+18\n"
     ]
    },
    {
     "ename": "",
     "evalue": "1",
     "output_type": "error",
     "traceback": []
    }
   ],
   "source": [
    "diff new_networksetup.txt template_networksetup.txt"
   ]
  },
  {
   "cell_type": "markdown",
   "metadata": {},
   "source": [
    "## The model run with your changed reaction rates must be executed with the parameter ``ININET=3`` in the file ``ppn_physics.input``, otherwise, when ``ININET=0``, a default file ``networksetup.txt``, that does not include your reaction rate changes, will be used. "
   ]
  },
  {
   "cell_type": "markdown",
   "metadata": {},
   "source": [
    "Don't forget to restore the default value ``ININET=0`` after a model run with changed reaction rates."
   ]
  },
  {
   "cell_type": "code",
   "execution_count": null,
   "metadata": {},
   "outputs": [],
   "source": []
  }
 ],
 "metadata": {
  "kernelspec": {
   "display_name": "Bash",
   "language": "bash",
   "name": "bash"
  },
  "language_info": {
   "codemirror_mode": "shell",
   "file_extension": ".sh",
   "mimetype": "text/x-sh",
   "name": "bash"
  }
 },
 "nbformat": 4,
 "nbformat_minor": 4
}
